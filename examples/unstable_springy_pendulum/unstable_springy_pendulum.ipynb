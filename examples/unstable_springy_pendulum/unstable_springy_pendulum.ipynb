{
 "cells": [
  {
   "cell_type": "code",
   "execution_count": 1,
   "metadata": {
    "collapsed": true,
    "deletable": true,
    "editable": true
   },
   "outputs": [],
   "source": [
    "from sympy import symbols, sin, cos, pi, Eq, sympify\n",
    "from sympy.physics.mechanics import dynamicsymbols, ReferenceFrame, Point, Particle, KanesMethod, init_vprinting"
   ]
  },
  {
   "cell_type": "code",
   "execution_count": 2,
   "metadata": {
    "collapsed": true,
    "deletable": true,
    "editable": true
   },
   "outputs": [],
   "source": [
    "init_vprinting()"
   ]
  },
  {
   "cell_type": "code",
   "execution_count": 3,
   "metadata": {
    "collapsed": true,
    "deletable": true,
    "editable": true
   },
   "outputs": [],
   "source": [
    "def eq_print(sym, expr):\n",
    "    return Eq(sympify(sym), expr)"
   ]
  },
  {
   "cell_type": "code",
   "execution_count": 4,
   "metadata": {
    "collapsed": true,
    "deletable": true,
    "editable": true
   },
   "outputs": [],
   "source": [
    "m, k, l, g = symbols('m, k, l, g')\n",
    "theta, omega = dynamicsymbols('theta, omega')"
   ]
  },
  {
   "cell_type": "code",
   "execution_count": 5,
   "metadata": {
    "collapsed": false,
    "deletable": true,
    "editable": true
   },
   "outputs": [],
   "source": [
    "N = ReferenceFrame('N')\n",
    "A = N.orientnew('A', 'Axis', (theta, N.z))"
   ]
  },
  {
   "cell_type": "code",
   "execution_count": 6,
   "metadata": {
    "collapsed": true,
    "deletable": true,
    "editable": true
   },
   "outputs": [],
   "source": [
    "O = Point('O')\n",
    "Ps = O.locatenew('P_s', l / 2 * A.y)\n",
    "Pm = O.locatenew('P_m', l * A.y)"
   ]
  },
  {
   "cell_type": "code",
   "execution_count": 7,
   "metadata": {
    "collapsed": true,
    "deletable": true,
    "editable": true
   },
   "outputs": [],
   "source": [
    "A.set_ang_vel(N, omega * N.z)"
   ]
  },
  {
   "cell_type": "code",
   "execution_count": 8,
   "metadata": {
    "collapsed": false,
    "deletable": true,
    "editable": true
   },
   "outputs": [
    {
     "data": {
      "image/png": "[encoded data removed]",
      "text/latex": [
       "$$-  l \\omega\\mathbf{\\hat{a}_x}$$"
      ],
      "text/plain": [
       "- l⋅ω a_x"
      ]
     },
     "execution_count": 8,
     "metadata": {},
     "output_type": "execute_result"
    }
   ],
   "source": [
    "O.set_vel(N, 0)\n",
    "Ps.v2pt_theory(O, N, A)\n",
    "Pm.v2pt_theory(O, N, A) "
   ]
  },
  {
   "cell_type": "code",
   "execution_count": 9,
   "metadata": {
    "collapsed": true,
    "deletable": true,
    "editable": true
   },
   "outputs": [],
   "source": [
    "forces = ((Pm, -m * g * N.y),\n",
    "          (Ps, k * l * sin(theta) * N.x))"
   ]
  },
  {
   "cell_type": "code",
   "execution_count": 10,
   "metadata": {
    "collapsed": true,
    "deletable": true,
    "editable": true
   },
   "outputs": [],
   "source": [
    "bob = Particle('bob', Pm, m)"
   ]
  },
  {
   "cell_type": "code",
   "execution_count": 11,
   "metadata": {
    "collapsed": true,
    "deletable": true,
    "editable": true
   },
   "outputs": [],
   "source": [
    "kane = KanesMethod(N, (theta, ), (omega, ), kd_eqs=(omega - theta.diff(), )) "
   ]
  },
  {
   "cell_type": "code",
   "execution_count": 12,
   "metadata": {
    "collapsed": false,
    "deletable": true,
    "editable": true
   },
   "outputs": [],
   "source": [
    "fr, frstar = kane.kanes_equations(forces, (bob, ))"
   ]
  },
  {
   "cell_type": "code",
   "execution_count": 13,
   "metadata": {
    "collapsed": false,
    "deletable": true,
    "editable": true
   },
   "outputs": [
    {
     "data": {
      "image/png": "[encoded data removed]",
      "text/latex": [
       "$$\\left[\\begin{matrix}\\omega\\\\\\frac{\\operatorname{sin}\\left(\\theta\\right)}{2 l m} \\left(2 g m - k l \\operatorname{cos}\\left(\\theta\\right)\\right)\\end{matrix}\\right]$$"
      ],
      "text/plain": [
       "⎡             ω             ⎤\n",
       "⎢                           ⎥\n",
       "⎢(2⋅g⋅m - k⋅l⋅cos(θ))⋅sin(θ)⎥\n",
       "⎢───────────────────────────⎥\n",
       "⎣           2⋅l⋅m           ⎦"
      ]
     },
     "execution_count": 13,
     "metadata": {},
     "output_type": "execute_result"
    }
   ],
   "source": [
    "rhs = kane.rhs()\n",
    "rhs.simplify()\n",
    "rhs"
   ]
  },
  {
   "cell_type": "code",
   "execution_count": 14,
   "metadata": {
    "collapsed": false,
    "deletable": true,
    "editable": true
   },
   "outputs": [
    {
     "data": {
      "image/png": "[encoded data removed]",
      "text/latex": [
       "$$0 = g l m \\operatorname{sin}\\left(\\theta\\right) - \\frac{k l^{2}}{2} \\operatorname{sin}\\left(\\theta\\right) \\operatorname{cos}\\left(\\theta\\right) - l^{2} m \\dot{\\omega}$$"
      ],
      "text/plain": [
       "                      2                        \n",
       "                   k⋅l ⋅sin(θ)⋅cos(θ)    2     \n",
       "0 = g⋅l⋅m⋅sin(θ) - ────────────────── - l ⋅m⋅ω̇\n",
       "                           2                   "
      ]
     },
     "execution_count": 14,
     "metadata": {},
     "output_type": "execute_result"
    }
   ],
   "source": [
    "eq_print(0, (fr + frstar)[0])"
   ]
  },
  {
   "cell_type": "code",
   "execution_count": 15,
   "metadata": {
    "collapsed": true,
    "deletable": true,
    "editable": true
   },
   "outputs": [],
   "source": [
    "from pydy.system import System\n",
    "import numpy as np"
   ]
  },
  {
   "cell_type": "code",
   "execution_count": 16,
   "metadata": {
    "collapsed": false,
    "deletable": true,
    "editable": true
   },
   "outputs": [
    {
     "data": {
      "image/png": "[encoded data removed]",
      "text/latex": [
       "$$\\frac{k}{2 m} < \\frac{g}{l}$$"
      ],
      "text/plain": [
       " k    g\n",
       "─── < ─\n",
       "2⋅m   l"
      ]
     },
     "execution_count": 16,
     "metadata": {},
     "output_type": "execute_result"
    }
   ],
   "source": [
    "k / 2 / m  < g / l"
   ]
  },
  {
   "cell_type": "code",
   "execution_count": 17,
   "metadata": {
    "collapsed": true,
    "deletable": true,
    "editable": true
   },
   "outputs": [],
   "source": [
    "p = {m: 1.0, k: 19.61, l: 1.0, g: 9.81}\n",
    "x0 = {theta: pi / 10, omega: 0}\n",
    "t = np.linspace(0, 10, num=10 * 60)"
   ]
  },
  {
   "cell_type": "markdown",
   "metadata": {
    "deletable": true,
    "editable": true
   },
   "source": [
    "If $k$ is less than the following, the system will be unstable."
   ]
  },
  {
   "cell_type": "code",
   "execution_count": 18,
   "metadata": {
    "collapsed": false,
    "deletable": true,
    "editable": true
   },
   "outputs": [
    {
     "data": {
      "image/png": "[encoded data removed]",
      "text/latex": [
       "$$19.62$$"
      ],
      "text/plain": [
       "19.62"
      ]
     },
     "execution_count": 18,
     "metadata": {},
     "output_type": "execute_result"
    }
   ],
   "source": [
    "p[g] / p[l] * 2 * p[m]"
   ]
  },
  {
   "cell_type": "code",
   "execution_count": 19,
   "metadata": {
    "collapsed": false,
    "deletable": true,
    "editable": true
   },
   "outputs": [
    {
     "data": {
      "image/png": "[encoded data removed]",
      "text/latex": [
       "$$-0.005000000000000782$$"
      ],
      "text/plain": [
       "-0.005000000000000782"
      ]
     },
     "execution_count": 19,
     "metadata": {},
     "output_type": "execute_result"
    }
   ],
   "source": [
    "p[k] / 2 / p[m] - p[g] / p[l]"
   ]
  },
  {
   "cell_type": "code",
   "execution_count": 20,
   "metadata": {
    "collapsed": false,
    "deletable": true,
    "editable": true
   },
   "outputs": [],
   "source": [
    "sys = System(kane, constants=p, initial_conditions=x0, times=t)"
   ]
  },
  {
   "cell_type": "code",
   "execution_count": 21,
   "metadata": {
    "collapsed": true,
    "deletable": true,
    "editable": true
   },
   "outputs": [],
   "source": [
    "x = sys.integrate()"
   ]
  },
  {
   "cell_type": "code",
   "execution_count": 22,
   "metadata": {
    "collapsed": true,
    "deletable": true,
    "editable": true
   },
   "outputs": [],
   "source": [
    "import matplotlib.pyplot as plt\n",
    "%matplotlib notebook"
   ]
  },
  {
   "cell_type": "code",
   "execution_count": 23,
   "metadata": {
    "collapsed": false,
    "deletable": true,
    "editable": true
   },
   "outputs": [
    {
     "data": {
      "application/javascript": [
       "/* Put everything inside the global mpl namespace */\n",
       "window.mpl = {};\n",
       "\n",
       "\n",
       "mpl.get_websocket_type = function() {\n",
       "    if (typeof(WebSocket) !== 'undefined') {\n",
       "        return WebSocket;\n",
       "    } else if (typeof(MozWebSocket) !== 'undefined') {\n",
       "        return MozWebSocket;\n",
       "    } else {\n",
       "        alert('Your browser does not have WebSocket support.' +\n",
       "              'Please try Chrome, Safari or Firefox ≥ 6. ' +\n",
       "              'Firefox 4 and 5 are also supported but you ' +\n",
       "              'have to enable WebSockets in about:config.');\n",
       "    };\n",
       "}\n",
       "\n",
       "mpl.figure = function(figure_id, websocket, ondownload, parent_element) {\n",
       "    this.id = figure_id;\n",
       "\n",
       "    this.ws = websocket;\n",
       "\n",
       "    this.supports_binary = (this.ws.binaryType != undefined);\n",
       "\n",
       "    if (!this.supports_binary) {\n",
       "        var warnings = document.getElementById(\"mpl-warnings\");\n",
       "        if (warnings) {\n",
       "            warnings.style.display = 'block';\n",
       "            warnings.textContent = (\n",
       "                \"This browser does not support binary websocket messages. \" +\n",
       "                    \"Performance may be slow.\");\n",
       "        }\n",
       "    }\n",
       "\n",
       "    this.imageObj = new Image();\n",
       "\n",
       "    this.context = undefined;\n",
       "    this.message = undefined;\n",
       "    this.canvas = undefined;\n",
       "    this.rubberband_canvas = undefined;\n",
       "    this.rubberband_context = undefined;\n",
       "    this.format_dropdown = undefined;\n",
       "\n",
       "    this.image_mode = 'full';\n",
       "\n",
       "    this.root = $('<div/>');\n",
       "    this._root_extra_style(this.root)\n",
       "    this.root.attr('style', 'display: inline-block');\n",
       "\n",
       "    $(parent_element).append(this.root);\n",
       "\n",
       "    this._init_header(this);\n",
       "    this._init_canvas(this);\n",
       "    this._init_toolbar(this);\n",
       "\n",
       "    var fig = this;\n",
       "\n",
       "    this.waiting = false;\n",
       "\n",
       "    this.ws.onopen =  function () {\n",
       "            fig.send_message(\"supports_binary\", {value: fig.supports_binary});\n",
       "            fig.send_message(\"send_image_mode\", {});\n",
       "            if (mpl.ratio != 1) {\n",
       "                fig.send_message(\"set_dpi_ratio\", {'dpi_ratio': mpl.ratio});\n",
       "            }\n",
       "            fig.send_message(\"refresh\", {});\n",
       "        }\n",
       "\n",
       "    this.imageObj.onload = function() {\n",
       "            if (fig.image_mode == 'full') {\n",
       "                // Full images could contain transparency (where diff images\n",
       "                // almost always do), so we need to clear the canvas so that\n",
       "                // there is no ghosting.\n",
       "                fig.context.clearRect(0, 0, fig.canvas.width, fig.canvas.height);\n",
       "            }\n",
       "            fig.context.drawImage(fig.imageObj, 0, 0);\n",
       "        };\n",
       "\n",
       "    this.imageObj.onunload = function() {\n",
       "        this.ws.close();\n",
       "    }\n",
       "\n",
       "    this.ws.onmessage = this._make_on_message_function(this);\n",
       "\n",
       "    this.ondownload = ondownload;\n",
       "}\n",
       "\n",
       "mpl.figure.prototype._init_header = function() {\n",
       "    var titlebar = $(\n",
       "        '<div class=\"ui-dialog-titlebar ui-widget-header ui-corner-all ' +\n",
       "        'ui-helper-clearfix\"/>');\n",
       "    var titletext = $(\n",
       "        '<div class=\"ui-dialog-title\" style=\"width: 100%; ' +\n",
       "        'text-align: center; padding: 3px;\"/>');\n",
       "    titlebar.append(titletext)\n",
       "    this.root.append(titlebar);\n",
       "    this.header = titletext[0];\n",
       "}\n",
       "\n",
       "\n",
       "\n",
       "mpl.figure.prototype._canvas_extra_style = function(canvas_div) {\n",
       "\n",
       "}\n",
       "\n",
       "\n",
       "mpl.figure.prototype._root_extra_style = function(canvas_div) {\n",
       "\n",
       "}\n",
       "\n",
       "mpl.figure.prototype._init_canvas = function() {\n",
       "    var fig = this;\n",
       "\n",
       "    var canvas_div = $('<div/>');\n",
       "\n",
       "    canvas_div.attr('style', 'position: relative; clear: both; outline: 0');\n",
       "\n",
       "    function canvas_keyboard_event(event) {\n",
       "        return fig.key_event(event, event['data']);\n",
       "    }\n",
       "\n",
       "    canvas_div.keydown('key_press', canvas_keyboard_event);\n",
       "    canvas_div.keyup('key_release', canvas_keyboard_event);\n",
       "    this.canvas_div = canvas_div\n",
       "    this._canvas_extra_style(canvas_div)\n",
       "    this.root.append(canvas_div);\n",
       "\n",
       "    var canvas = $('<canvas/>');\n",
       "    canvas.addClass('mpl-canvas');\n",
       "    canvas.attr('style', \"left: 0; top: 0; z-index: 0; outline: 0\")\n",
       "\n",
       "    this.canvas = canvas[0];\n",
       "    this.context = canvas[0].getContext(\"2d\");\n",
       "\n",
       "    var backingStore = this.context.backingStorePixelRatio ||\n",
       "\tthis.context.webkitBackingStorePixelRatio ||\n",
       "\tthis.context.mozBackingStorePixelRatio ||\n",
       "\tthis.context.msBackingStorePixelRatio ||\n",
       "\tthis.context.oBackingStorePixelRatio ||\n",
       "\tthis.context.backingStorePixelRatio || 1;\n",
       "\n",
       "    mpl.ratio = (window.devicePixelRatio || 1) / backingStore;\n",
       "\n",
       "    var rubberband = $('<canvas/>');\n",
       "    rubberband.attr('style', \"position: absolute; left: 0; top: 0; z-index: 1;\")\n",
       "\n",
       "    var pass_mouse_events = true;\n",
       "\n",
       "    canvas_div.resizable({\n",
       "        start: function(event, ui) {\n",
       "            pass_mouse_events = false;\n",
       "        },\n",
       "        resize: function(event, ui) {\n",
       "            fig.request_resize(ui.size.width, ui.size.height);\n",
       "        },\n",
       "        stop: function(event, ui) {\n",
       "            pass_mouse_events = true;\n",
       "            fig.request_resize(ui.size.width, ui.size.height);\n",
       "        },\n",
       "    });\n",
       "\n",
       "    function mouse_event_fn(event) {\n",
       "        if (pass_mouse_events)\n",
       "            return fig.mouse_event(event, event['data']);\n",
       "    }\n",
       "\n",
       "    rubberband.mousedown('button_press', mouse_event_fn);\n",
       "    rubberband.mouseup('button_release', mouse_event_fn);\n",
       "    // Throttle sequential mouse events to 1 every 20ms.\n",
       "    rubberband.mousemove('motion_notify', mouse_event_fn);\n",
       "\n",
       "    rubberband.mouseenter('figure_enter', mouse_event_fn);\n",
       "    rubberband.mouseleave('figure_leave', mouse_event_fn);\n",
       "\n",
       "    canvas_div.on(\"wheel\", function (event) {\n",
       "        event = event.originalEvent;\n",
       "        event['data'] = 'scroll'\n",
       "        if (event.deltaY < 0) {\n",
       "            event.step = 1;\n",
       "        } else {\n",
       "            event.step = -1;\n",
       "        }\n",
       "        mouse_event_fn(event);\n",
       "    });\n",
       "\n",
       "    canvas_div.append(canvas);\n",
       "    canvas_div.append(rubberband);\n",
       "\n",
       "    this.rubberband = rubberband;\n",
       "    this.rubberband_canvas = rubberband[0];\n",
       "    this.rubberband_context = rubberband[0].getContext(\"2d\");\n",
       "    this.rubberband_context.strokeStyle = \"#000000\";\n",
       "\n",
       "    this._resize_canvas = function(width, height) {\n",
       "        // Keep the size of the canvas, canvas container, and rubber band\n",
       "        // canvas in synch.\n",
       "        canvas_div.css('width', width)\n",
       "        canvas_div.css('height', height)\n",
       "\n",
       "        canvas.attr('width', width * mpl.ratio);\n",
       "        canvas.attr('height', height * mpl.ratio);\n",
       "        canvas.attr('style', 'width: ' + width + 'px; height: ' + height + 'px;');\n",
       "\n",
       "        rubberband.attr('width', width);\n",
       "        rubberband.attr('height', height);\n",
       "    }\n",
       "\n",
       "    // Set the figure to an initial 600x600px, this will subsequently be updated\n",
       "    // upon first draw.\n",
       "    this._resize_canvas(600, 600);\n",
       "\n",
       "    // Disable right mouse context menu.\n",
       "    $(this.rubberband_canvas).bind(\"contextmenu\",function(e){\n",
       "        return false;\n",
       "    });\n",
       "\n",
       "    function set_focus () {\n",
       "        canvas.focus();\n",
       "        canvas_div.focus();\n",
       "    }\n",
       "\n",
       "    window.setTimeout(set_focus, 100);\n",
       "}\n",
       "\n",
       "mpl.figure.prototype._init_toolbar = function() {\n",
       "    var fig = this;\n",
       "\n",
       "    var nav_element = $('<div/>')\n",
       "    nav_element.attr('style', 'width: 100%');\n",
       "    this.root.append(nav_element);\n",
       "\n",
       "    // Define a callback function for later on.\n",
       "    function toolbar_event(event) {\n",
       "        return fig.toolbar_button_onclick(event['data']);\n",
       "    }\n",
       "    function toolbar_mouse_event(event) {\n",
       "        return fig.toolbar_button_onmouseover(event['data']);\n",
       "    }\n",
       "\n",
       "    for(var toolbar_ind in mpl.toolbar_items) {\n",
       "        var name = mpl.toolbar_items[toolbar_ind][0];\n",
       "        var tooltip = mpl.toolbar_items[toolbar_ind][1];\n",
       "        var image = mpl.toolbar_items[toolbar_ind][2];\n",
       "        var method_name = mpl.toolbar_items[toolbar_ind][3];\n",
       "\n",
       "        if (!name) {\n",
       "            // put a spacer in here.\n",
       "            continue;\n",
       "        }\n",
       "        var button = $('<button/>');\n",
       "        button.addClass('ui-button ui-widget ui-state-default ui-corner-all ' +\n",
       "                        'ui-button-icon-only');\n",
       "        button.attr('role', 'button');\n",
       "        button.attr('aria-disabled', 'false');\n",
       "        button.click(method_name, toolbar_event);\n",
       "        button.mouseover(tooltip, toolbar_mouse_event);\n",
       "\n",
       "        var icon_img = $('<span/>');\n",
       "        icon_img.addClass('ui-button-icon-primary ui-icon');\n",
       "        icon_img.addClass(image);\n",
       "        icon_img.addClass('ui-corner-all');\n",
       "\n",
       "        var tooltip_span = $('<span/>');\n",
       "        tooltip_span.addClass('ui-button-text');\n",
       "        tooltip_span.html(tooltip);\n",
       "\n",
       "        button.append(icon_img);\n",
       "        button.append(tooltip_span);\n",
       "\n",
       "        nav_element.append(button);\n",
       "    }\n",
       "\n",
       "    var fmt_picker_span = $('<span/>');\n",
       "\n",
       "    var fmt_picker = $('<select/>');\n",
       "    fmt_picker.addClass('mpl-toolbar-option ui-widget ui-widget-content');\n",
       "    fmt_picker_span.append(fmt_picker);\n",
       "    nav_element.append(fmt_picker_span);\n",
       "    this.format_dropdown = fmt_picker[0];\n",
       "\n",
       "    for (var ind in mpl.extensions) {\n",
       "        var fmt = mpl.extensions[ind];\n",
       "        var option = $(\n",
       "            '<option/>', {selected: fmt === mpl.default_extension}).html(fmt);\n",
       "        fmt_picker.append(option)\n",
       "    }\n",
       "\n",
       "    // Add hover states to the ui-buttons\n",
       "    $( \".ui-button\" ).hover(\n",
       "        function() { $(this).addClass(\"ui-state-hover\");},\n",
       "        function() { $(this).removeClass(\"ui-state-hover\");}\n",
       "    );\n",
       "\n",
       "    var status_bar = $('<span class=\"mpl-message\"/>');\n",
       "    nav_element.append(status_bar);\n",
       "    this.message = status_bar[0];\n",
       "}\n",
       "\n",
       "mpl.figure.prototype.request_resize = function(x_pixels, y_pixels) {\n",
       "    // Request matplotlib to resize the figure. Matplotlib will then trigger a resize in the client,\n",
       "    // which will in turn request a refresh of the image.\n",
       "    this.send_message('resize', {'width': x_pixels, 'height': y_pixels});\n",
       "}\n",
       "\n",
       "mpl.figure.prototype.send_message = function(type, properties) {\n",
       "    properties['type'] = type;\n",
       "    properties['figure_id'] = this.id;\n",
       "    this.ws.send(JSON.stringify(properties));\n",
       "}\n",
       "\n",
       "mpl.figure.prototype.send_draw_message = function() {\n",
       "    if (!this.waiting) {\n",
       "        this.waiting = true;\n",
       "        this.ws.send(JSON.stringify({type: \"draw\", figure_id: this.id}));\n",
       "    }\n",
       "}\n",
       "\n",
       "\n",
       "mpl.figure.prototype.handle_save = function(fig, msg) {\n",
       "    var format_dropdown = fig.format_dropdown;\n",
       "    var format = format_dropdown.options[format_dropdown.selectedIndex].value;\n",
       "    fig.ondownload(fig, format);\n",
       "}\n",
       "\n",
       "\n",
       "mpl.figure.prototype.handle_resize = function(fig, msg) {\n",
       "    var size = msg['size'];\n",
       "    if (size[0] != fig.canvas.width || size[1] != fig.canvas.height) {\n",
       "        fig._resize_canvas(size[0], size[1]);\n",
       "        fig.send_message(\"refresh\", {});\n",
       "    };\n",
       "}\n",
       "\n",
       "mpl.figure.prototype.handle_rubberband = function(fig, msg) {\n",
       "    var x0 = msg['x0'] / mpl.ratio;\n",
       "    var y0 = (fig.canvas.height - msg['y0']) / mpl.ratio;\n",
       "    var x1 = msg['x1'] / mpl.ratio;\n",
       "    var y1 = (fig.canvas.height - msg['y1']) / mpl.ratio;\n",
       "    x0 = Math.floor(x0) + 0.5;\n",
       "    y0 = Math.floor(y0) + 0.5;\n",
       "    x1 = Math.floor(x1) + 0.5;\n",
       "    y1 = Math.floor(y1) + 0.5;\n",
       "    var min_x = Math.min(x0, x1);\n",
       "    var min_y = Math.min(y0, y1);\n",
       "    var width = Math.abs(x1 - x0);\n",
       "    var height = Math.abs(y1 - y0);\n",
       "\n",
       "    fig.rubberband_context.clearRect(\n",
       "        0, 0, fig.canvas.width, fig.canvas.height);\n",
       "\n",
       "    fig.rubberband_context.strokeRect(min_x, min_y, width, height);\n",
       "}\n",
       "\n",
       "mpl.figure.prototype.handle_figure_label = function(fig, msg) {\n",
       "    // Updates the figure title.\n",
       "    fig.header.textContent = msg['label'];\n",
       "}\n",
       "\n",
       "mpl.figure.prototype.handle_cursor = function(fig, msg) {\n",
       "    var cursor = msg['cursor'];\n",
       "    switch(cursor)\n",
       "    {\n",
       "    case 0:\n",
       "        cursor = 'pointer';\n",
       "        break;\n",
       "    case 1:\n",
       "        cursor = 'default';\n",
       "        break;\n",
       "    case 2:\n",
       "        cursor = 'crosshair';\n",
       "        break;\n",
       "    case 3:\n",
       "        cursor = 'move';\n",
       "        break;\n",
       "    }\n",
       "    fig.rubberband_canvas.style.cursor = cursor;\n",
       "}\n",
       "\n",
       "mpl.figure.prototype.handle_message = function(fig, msg) {\n",
       "    fig.message.textContent = msg['message'];\n",
       "}\n",
       "\n",
       "mpl.figure.prototype.handle_draw = function(fig, msg) {\n",
       "    // Request the server to send over a new figure.\n",
       "    fig.send_draw_message();\n",
       "}\n",
       "\n",
       "mpl.figure.prototype.handle_image_mode = function(fig, msg) {\n",
       "    fig.image_mode = msg['mode'];\n",
       "}\n",
       "\n",
       "mpl.figure.prototype.updated_canvas_event = function() {\n",
       "    // Called whenever the canvas gets updated.\n",
       "    this.send_message(\"ack\", {});\n",
       "}\n",
       "\n",
       "// A function to construct a web socket function for onmessage handling.\n",
       "// Called in the figure constructor.\n",
       "mpl.figure.prototype._make_on_message_function = function(fig) {\n",
       "    return function socket_on_message(evt) {\n",
       "        if (evt.data instanceof Blob) {\n",
       "            /* FIXME: We get \"Resource interpreted as Image but\n",
       "             * transferred with MIME type text/plain:\" errors on\n",
       "             * Chrome.  But how to set the MIME type?  It doesn't seem\n",
       "             * to be part of the websocket stream */\n",
       "            evt.data.type = \"image/png\";\n",
       "\n",
       "            /* Free the memory for the previous frames */\n",
       "            if (fig.imageObj.src) {\n",
       "                (window.URL || window.webkitURL).revokeObjectURL(\n",
       "                    fig.imageObj.src);\n",
       "            }\n",
       "\n",
       "            fig.imageObj.src = (window.URL || window.webkitURL).createObjectURL(\n",
       "                evt.data);\n",
       "            fig.updated_canvas_event();\n",
       "            fig.waiting = false;\n",
       "            return;\n",
       "        }\n",
       "        else if (typeof evt.data === 'string' && evt.data.slice(0, 21) == \"data:image/png;base64\") {\n",
       "            fig.imageObj.src = evt.data;\n",
       "            fig.updated_canvas_event();\n",
       "            fig.waiting = false;\n",
       "            return;\n",
       "        }\n",
       "\n",
       "        var msg = JSON.parse(evt.data);\n",
       "        var msg_type = msg['type'];\n",
       "\n",
       "        // Call the  \"handle_{type}\" callback, which takes\n",
       "        // the figure and JSON message as its only arguments.\n",
       "        try {\n",
       "            var callback = fig[\"handle_\" + msg_type];\n",
       "        } catch (e) {\n",
       "            console.log(\"No handler for the '\" + msg_type + \"' message type: \", msg);\n",
       "            return;\n",
       "        }\n",
       "\n",
       "        if (callback) {\n",
       "            try {\n",
       "                // console.log(\"Handling '\" + msg_type + \"' message: \", msg);\n",
       "                callback(fig, msg);\n",
       "            } catch (e) {\n",
       "                console.log(\"Exception inside the 'handler_\" + msg_type + \"' callback:\", e, e.stack, msg);\n",
       "            }\n",
       "        }\n",
       "    };\n",
       "}\n",
       "\n",
       "// from http://stackoverflow.com/questions/1114465/getting-mouse-location-in-canvas\n",
       "mpl.findpos = function(e) {\n",
       "    //this section is from http://www.quirksmode.org/js/events_properties.html\n",
       "    var targ;\n",
       "    if (!e)\n",
       "        e = window.event;\n",
       "    if (e.target)\n",
       "        targ = e.target;\n",
       "    else if (e.srcElement)\n",
       "        targ = e.srcElement;\n",
       "    if (targ.nodeType == 3) // defeat Safari bug\n",
       "        targ = targ.parentNode;\n",
       "\n",
       "    // jQuery normalizes the pageX and pageY\n",
       "    // pageX,Y are the mouse positions relative to the document\n",
       "    // offset() returns the position of the element relative to the document\n",
       "    var x = e.pageX - $(targ).offset().left;\n",
       "    var y = e.pageY - $(targ).offset().top;\n",
       "\n",
       "    return {\"x\": x, \"y\": y};\n",
       "};\n",
       "\n",
       "/*\n",
       " * return a copy of an object with only non-object keys\n",
       " * we need this to avoid circular references\n",
       " * http://stackoverflow.com/a/24161582/3208463\n",
       " */\n",
       "function simpleKeys (original) {\n",
       "  return Object.keys(original).reduce(function (obj, key) {\n",
       "    if (typeof original[key] !== 'object')\n",
       "        obj[key] = original[key]\n",
       "    return obj;\n",
       "  }, {});\n",
       "}\n",
       "\n",
       "mpl.figure.prototype.mouse_event = function(event, name) {\n",
       "    var canvas_pos = mpl.findpos(event)\n",
       "\n",
       "    if (name === 'button_press')\n",
       "    {\n",
       "        this.canvas.focus();\n",
       "        this.canvas_div.focus();\n",
       "    }\n",
       "\n",
       "    var x = canvas_pos.x * mpl.ratio;\n",
       "    var y = canvas_pos.y * mpl.ratio;\n",
       "\n",
       "    this.send_message(name, {x: x, y: y, button: event.button,\n",
       "                             step: event.step,\n",
       "                             guiEvent: simpleKeys(event)});\n",
       "\n",
       "    /* This prevents the web browser from automatically changing to\n",
       "     * the text insertion cursor when the button is pressed.  We want\n",
       "     * to control all of the cursor setting manually through the\n",
       "     * 'cursor' event from matplotlib */\n",
       "    event.preventDefault();\n",
       "    return false;\n",
       "}\n",
       "\n",
       "mpl.figure.prototype._key_event_extra = function(event, name) {\n",
       "    // Handle any extra behaviour associated with a key event\n",
       "}\n",
       "\n",
       "mpl.figure.prototype.key_event = function(event, name) {\n",
       "\n",
       "    // Prevent repeat events\n",
       "    if (name == 'key_press')\n",
       "    {\n",
       "        if (event.which === this._key)\n",
       "            return;\n",
       "        else\n",
       "            this._key = event.which;\n",
       "    }\n",
       "    if (name == 'key_release')\n",
       "        this._key = null;\n",
       "\n",
       "    var value = '';\n",
       "    if (event.ctrlKey && event.which != 17)\n",
       "        value += \"ctrl+\";\n",
       "    if (event.altKey && event.which != 18)\n",
       "        value += \"alt+\";\n",
       "    if (event.shiftKey && event.which != 16)\n",
       "        value += \"shift+\";\n",
       "\n",
       "    value += 'k';\n",
       "    value += event.which.toString();\n",
       "\n",
       "    this._key_event_extra(event, name);\n",
       "\n",
       "    this.send_message(name, {key: value,\n",
       "                             guiEvent: simpleKeys(event)});\n",
       "    return false;\n",
       "}\n",
       "\n",
       "mpl.figure.prototype.toolbar_button_onclick = function(name) {\n",
       "    if (name == 'download') {\n",
       "        this.handle_save(this, null);\n",
       "    } else {\n",
       "        this.send_message(\"toolbar_button\", {name: name});\n",
       "    }\n",
       "};\n",
       "\n",
       "mpl.figure.prototype.toolbar_button_onmouseover = function(tooltip) {\n",
       "    this.message.textContent = tooltip;\n",
       "};\n",
       "mpl.toolbar_items = [[\"Home\", \"Reset original view\", \"fa fa-home icon-home\", \"home\"], [\"Back\", \"Back to  previous view\", \"fa fa-arrow-left icon-arrow-left\", \"back\"], [\"Forward\", \"Forward to next view\", \"fa fa-arrow-right icon-arrow-right\", \"forward\"], [\"\", \"\", \"\", \"\"], [\"Pan\", \"Pan axes with left mouse, zoom with right\", \"fa fa-arrows icon-move\", \"pan\"], [\"Zoom\", \"Zoom to rectangle\", \"fa fa-square-o icon-check-empty\", \"zoom\"], [\"\", \"\", \"\", \"\"], [\"Download\", \"Download plot\", \"fa fa-floppy-o icon-save\", \"download\"]];\n",
       "\n",
       "mpl.extensions = [\"eps\", \"pdf\", \"png\", \"ps\", \"raw\", \"svg\"];\n",
       "\n",
       "mpl.default_extension = \"png\";var comm_websocket_adapter = function(comm) {\n",
       "    // Create a \"websocket\"-like object which calls the given IPython comm\n",
       "    // object with the appropriate methods. Currently this is a non binary\n",
       "    // socket, so there is still some room for performance tuning.\n",
       "    var ws = {};\n",
       "\n",
       "    ws.close = function() {\n",
       "        comm.close()\n",
       "    };\n",
       "    ws.send = function(m) {\n",
       "        //console.log('sending', m);\n",
       "        comm.send(m);\n",
       "    };\n",
       "    // Register the callback with on_msg.\n",
       "    comm.on_msg(function(msg) {\n",
       "        //console.log('receiving', msg['content']['data'], msg);\n",
       "        // Pass the mpl event to the overriden (by mpl) onmessage function.\n",
       "        ws.onmessage(msg['content']['data'])\n",
       "    });\n",
       "    return ws;\n",
       "}\n",
       "\n",
       "mpl.mpl_figure_comm = function(comm, msg) {\n",
       "    // This is the function which gets called when the mpl process\n",
       "    // starts-up an IPython Comm through the \"matplotlib\" channel.\n",
       "\n",
       "    var id = msg.content.data.id;\n",
       "    // Get hold of the div created by the display call when the Comm\n",
       "    // socket was opened in Python.\n",
       "    var element = $(\"#\" + id);\n",
       "    var ws_proxy = comm_websocket_adapter(comm)\n",
       "\n",
       "    function ondownload(figure, format) {\n",
       "        window.open(figure.imageObj.src);\n",
       "    }\n",
       "\n",
       "    var fig = new mpl.figure(id, ws_proxy,\n",
       "                           ondownload,\n",
       "                           element.get(0));\n",
       "\n",
       "    // Call onopen now - mpl needs it, as it is assuming we've passed it a real\n",
       "    // web socket which is closed, not our websocket->open comm proxy.\n",
       "    ws_proxy.onopen();\n",
       "\n",
       "    fig.parent_element = element.get(0);\n",
       "    fig.cell_info = mpl.find_output_cell(\"<div id='\" + id + \"'></div>\");\n",
       "    if (!fig.cell_info) {\n",
       "        console.error(\"Failed to find cell for figure\", id, fig);\n",
       "        return;\n",
       "    }\n",
       "\n",
       "    var output_index = fig.cell_info[2]\n",
       "    var cell = fig.cell_info[0];\n",
       "\n",
       "};\n",
       "\n",
       "mpl.figure.prototype.handle_close = function(fig, msg) {\n",
       "    var width = fig.canvas.width/mpl.ratio\n",
       "    fig.root.unbind('remove')\n",
       "\n",
       "    // Update the output cell to use the data from the current canvas.\n",
       "    fig.push_to_output();\n",
       "    var dataURL = fig.canvas.toDataURL();\n",
       "    // Re-enable the keyboard manager in IPython - without this line, in FF,\n",
       "    // the notebook keyboard shortcuts fail.\n",
       "    IPython.keyboard_manager.enable()\n",
       "    $(fig.parent_element).html('<img src=\"' + dataURL + '\" width=\"' + width + '\">');\n",
       "    fig.close_ws(fig, msg);\n",
       "}\n",
       "\n",
       "mpl.figure.prototype.close_ws = function(fig, msg){\n",
       "    fig.send_message('closing', msg);\n",
       "    // fig.ws.close()\n",
       "}\n",
       "\n",
       "mpl.figure.prototype.push_to_output = function(remove_interactive) {\n",
       "    // Turn the data on the canvas into data in the output cell.\n",
       "    var width = this.canvas.width/mpl.ratio\n",
       "    var dataURL = this.canvas.toDataURL();\n",
       "    this.cell_info[1]['text/html'] = '<img src=\"' + dataURL + '\" width=\"' + width + '\">';\n",
       "}\n",
       "\n",
       "mpl.figure.prototype.updated_canvas_event = function() {\n",
       "    // Tell IPython that the notebook contents must change.\n",
       "    IPython.notebook.set_dirty(true);\n",
       "    this.send_message(\"ack\", {});\n",
       "    var fig = this;\n",
       "    // Wait a second, then push the new image to the DOM so\n",
       "    // that it is saved nicely (might be nice to debounce this).\n",
       "    setTimeout(function () { fig.push_to_output() }, 1000);\n",
       "}\n",
       "\n",
       "mpl.figure.prototype._init_toolbar = function() {\n",
       "    var fig = this;\n",
       "\n",
       "    var nav_element = $('<div/>')\n",
       "    nav_element.attr('style', 'width: 100%');\n",
       "    this.root.append(nav_element);\n",
       "\n",
       "    // Define a callback function for later on.\n",
       "    function toolbar_event(event) {\n",
       "        return fig.toolbar_button_onclick(event['data']);\n",
       "    }\n",
       "    function toolbar_mouse_event(event) {\n",
       "        return fig.toolbar_button_onmouseover(event['data']);\n",
       "    }\n",
       "\n",
       "    for(var toolbar_ind in mpl.toolbar_items){\n",
       "        var name = mpl.toolbar_items[toolbar_ind][0];\n",
       "        var tooltip = mpl.toolbar_items[toolbar_ind][1];\n",
       "        var image = mpl.toolbar_items[toolbar_ind][2];\n",
       "        var method_name = mpl.toolbar_items[toolbar_ind][3];\n",
       "\n",
       "        if (!name) { continue; };\n",
       "\n",
       "        var button = $('<button class=\"btn btn-default\" href=\"#\" title=\"' + name + '\"><i class=\"fa ' + image + ' fa-lg\"></i></button>');\n",
       "        button.click(method_name, toolbar_event);\n",
       "        button.mouseover(tooltip, toolbar_mouse_event);\n",
       "        nav_element.append(button);\n",
       "    }\n",
       "\n",
       "    // Add the status bar.\n",
       "    var status_bar = $('<span class=\"mpl-message\" style=\"text-align:right; float: right;\"/>');\n",
       "    nav_element.append(status_bar);\n",
       "    this.message = status_bar[0];\n",
       "\n",
       "    // Add the close button to the window.\n",
       "    var buttongrp = $('<div class=\"btn-group inline pull-right\"></div>');\n",
       "    var button = $('<button class=\"btn btn-mini btn-primary\" href=\"#\" title=\"Stop Interaction\"><i class=\"fa fa-power-off icon-remove icon-large\"></i></button>');\n",
       "    button.click(function (evt) { fig.handle_close(fig, {}); } );\n",
       "    button.mouseover('Stop Interaction', toolbar_mouse_event);\n",
       "    buttongrp.append(button);\n",
       "    var titlebar = this.root.find($('.ui-dialog-titlebar'));\n",
       "    titlebar.prepend(buttongrp);\n",
       "}\n",
       "\n",
       "mpl.figure.prototype._root_extra_style = function(el){\n",
       "    var fig = this\n",
       "    el.on(\"remove\", function(){\n",
       "\tfig.close_ws(fig, {});\n",
       "    });\n",
       "}\n",
       "\n",
       "mpl.figure.prototype._canvas_extra_style = function(el){\n",
       "    // this is important to make the div 'focusable\n",
       "    el.attr('tabindex', 0)\n",
       "    // reach out to IPython and tell the keyboard manager to turn it's self\n",
       "    // off when our div gets focus\n",
       "\n",
       "    // location in version 3\n",
       "    if (IPython.notebook.keyboard_manager) {\n",
       "        IPython.notebook.keyboard_manager.register_events(el);\n",
       "    }\n",
       "    else {\n",
       "        // location in version 2\n",
       "        IPython.keyboard_manager.register_events(el);\n",
       "    }\n",
       "\n",
       "}\n",
       "\n",
       "mpl.figure.prototype._key_event_extra = function(event, name) {\n",
       "    var manager = IPython.notebook.keyboard_manager;\n",
       "    if (!manager)\n",
       "        manager = IPython.keyboard_manager;\n",
       "\n",
       "    // Check for shift+enter\n",
       "    if (event.shiftKey && event.which == 13) {\n",
       "        this.canvas_div.blur();\n",
       "        // select the cell after this one\n",
       "        var index = IPython.notebook.find_cell_index(this.cell_info[0]);\n",
       "        IPython.notebook.select(index + 1);\n",
       "    }\n",
       "}\n",
       "\n",
       "mpl.figure.prototype.handle_save = function(fig, msg) {\n",
       "    fig.ondownload(fig, null);\n",
       "}\n",
       "\n",
       "\n",
       "mpl.find_output_cell = function(html_output) {\n",
       "    // Return the cell and output element which can be found *uniquely* in the notebook.\n",
       "    // Note - this is a bit hacky, but it is done because the \"notebook_saving.Notebook\"\n",
       "    // IPython event is triggered only after the cells have been serialised, which for\n",
       "    // our purposes (turning an active figure into a static one), is too late.\n",
       "    var cells = IPython.notebook.get_cells();\n",
       "    var ncells = cells.length;\n",
       "    for (var i=0; i<ncells; i++) {\n",
       "        var cell = cells[i];\n",
       "        if (cell.cell_type === 'code'){\n",
       "            for (var j=0; j<cell.output_area.outputs.length; j++) {\n",
       "                var data = cell.output_area.outputs[j];\n",
       "                if (data.data) {\n",
       "                    // IPython >= 3 moved mimebundle to data attribute of output\n",
       "                    data = data.data;\n",
       "                }\n",
       "                if (data['text/html'] == html_output) {\n",
       "                    return [cell, data, j];\n",
       "                }\n",
       "            }\n",
       "        }\n",
       "    }\n",
       "}\n",
       "\n",
       "// Register the function which deals with the matplotlib target/channel.\n",
       "// The kernel may be null if the page has been refreshed.\n",
       "if (IPython.notebook.kernel != null) {\n",
       "    IPython.notebook.kernel.comm_manager.register_target('matplotlib', mpl.mpl_figure_comm);\n",
       "}\n"
      ],
      "text/plain": [
       "<IPython.core.display.Javascript object>"
      ]
     },
     "metadata": {},
     "output_type": "display_data"
    },
    {
     "data": {
      "text/html": [
       "<img src=\"data:image/png;base64,iVBORw0KGgoAAAANSUhEUgAAAoAAAAHgCAYAAAA10dzkAAAgAElEQVR4nOzdd1zc9f0H8Let1lhbonVr7UVNHDWuuqN1VWNbR7TVOmobrVqtrbX5OS7LkL2X2XvvPY6RQCCLBAgBEgIhgYQdIEDCnnf3+v3xOY4Nd3zv+HLH6/l4fB4PuPuO9zFf9/1+hggRERERERERERERERERERERERERERERERERERERERERERERERERERERERERERERERERERERERERERERERERERERERERERERERERERERERERERERERERERERERERERERERERERERERERERERERERERERERERERERERERERERERERERERERERERERERERERERERERERERERERERERERERERERERERERERERERERERERERERERERERERERERERERERERERERERERERERERERERERERERERERERERERERERERERERERERERERERERERERERERERERERERERERERERERERERERERERERERERERERERERERERERERERERERER2V0iIreIiA8bGxsbGxubR7VbRP0fJ3LaLSICNjY2NjY2No9stwhRO/iICDIyMlBUVMTGxsbGxsbmAS0jI6M2APronCPIQ/mICIqKikBERESeoaioiAGQNGEAJCIi8jAMgKQVAyAREZGHYQAkrRgAiYiIPAwDIGnFAEhE5KXMZjMqKirYPLBVV1fDarW2+L1lACStGACJiLxQSUkJTp48iYSEBDYPbampqaiqqmr2+8sASFoxABIReRmz2YyTJ08iLS0N5eXlul/NYnOulZeXo7CwEElJSUhMTITFYmnyPWYAJK0YAImIvExFRQUSEhJQXl6udymkQVlZGRISElBRUdHkOQZA0ooBkIjIy9QGwOaCA3mO1r6PDICkFQMgEZGXYQD0DgyA5E4MgEREXoYB0DswAJI7MQASEXkZbwqAoaGhEBFcvHhRtxoSExNxww03oLi4uNXtHn/8cWzatMll52UAJHdiACQi8jKeHACfffZZfPXVV/bPXRUARQRbt25t175vvvkmRo8ebf986dKl6N69e5Ptdu7ciZ49ezY7arc9GADJnRgAyTkWCxCzBtg1BCjO0bsaImoGA2BT0s4AmJaWhssuuwyZmZn2x1oKgGazGTfccANMJpOmWmsxAJI7MQCSc/aMBnx9VJtyD1DZ+i0RIup4jYOD1WpFWVWNLq211Swa69+/f22osbelS5dCRBAcHIyHH34YV1xxBZ588kkkJiY22Hfbtm146KGHcPnll+O2227D8OHDUVNTAwAwGAwNjmkwGAAAycnJeP3113H99dfjyiuvxCOPPIKgoKAGx500aRIeeeQR++e1gbR+8/X1tT//0Ucf4YMPPnDm29UiBkByJwZActzFdGDktXUB0NcHCBmjd1VE1Ejj4FBWVQOD0aRLK6uqcbjuwsJCPPnkk/j000+RnZ2N7OxsBAcHQ0Tw+OOPY+/evYiPj8dvf/tb9OnTx77f/v374ePjg2XLluHMmTPYvXs3evTogeHDhwMAzp8/bw+T2dnZOH/+PAAgNjYW8+bNQ1xcHE6fPo2hQ4eiW7duSEtLsx/79ddfx+eff27/vKqqCtOnT4ePj4+9xpKSEvvzc+fOtQdMrRgAyZ0YAMlxoeNV6FvyByBus/p4Yk/AYta7MiKqx1MDINDyLeDg4GD7Y35+fhAR++v73e9+h7FjxzY4zsqVK3HTTTfZPxcHbwHfe++9mDlzpv3zBx54ACNHjmywTUu3gAFg+/bt+NGPfuSSfoAMgORODIDkGKsVmPmICn0xq4GaKmDcr9TnZ/frXR0R1eOpt4CBlgNg7VU7AIiOjoaI2K/UXXvttejWrRuuvPJKe+vWrRtEBGVlZQCaD4AlJSX4+uuvcffdd6N79+648sor8aMf/QjffvutfZs777wTEydObLBfawFw9+7dEBGXrMLCAEjuxABIjslPVmFvxDVARaF6bOsX6jF/o761EVED3j4IJCYmBiKClJQUAEC3bt0wYcIEJCUlNWm1V+KkmQD42Wef4fbbb8eWLVtw/PhxJCUl4YEHHmhw/j59+mDQoEEN9mstAK5btw5XXnmlpq9BLQZAcicGQHJM1DIV9ha/XPdY3Cb12Jyn9KuLiJrw5AD40ksv4T//+Y/9c0cCYJ8+ffCPf/yj1eNedtllTebo6927d4PbuyUlJejevXuDAPjvf/8b/fr1a7Df6tWr8bOf/azZ8wwdOhRPP/106y/SQQyA5E4MgOSYTR+rsLenbi4sFOfYBoN0B8ov6FcbETXgyQHw008/xaOPPoqUlBTk5eVhz549bQbAwMBAXHrppRg+fDhOnDiBhIQErF27FkOGDLHv06tXL/zrX/9CdnY2LlxQf6/efPNNPPjgg4iJiUFsbCxee+01/PznP28QAHfs2IHrr78eZnNdX+ewsDB7v8S8vDz7bWZAXcFs3GewvRgAyZ0YAMkxU3ursJcc0vDxGQ+rxxMD9Kmri7BarSivMiO3qAJJuSWITruAA6fzsDs+Bztis7D+SDpWHErBgn1nMCP4NCYEnMSIHfEYtOU4vt4Qi/+ti8F/1kTji1VH8c8VR/Dxskj0XxKBDxaF470Fh/H2vEP405ww/HlOGN6aG4a35x3CX+YdwrvzD+O9BYfx14Xh+GBROP62OAJ/XxyBj5ZG4rMVUfhyTTS+3hCLQVuOY/iOExjrn4ApuxIxc89pzN+XjKUHz2J9ZDpMx84hNDEXR1IKkHCuCGn5ZcgvqURFtdnpPmLUNk8OgKdOncITTzyBK664osE0MK0FQECFwD59+uCKK66Aj48PHnvsMSxYsMD+/I4dO9CzZ09ceuml9lG6KSkpeP7553HFFVfg1ltvxaxZs5rcgq6pqcHNN9+MwMDABnV+/vnnuOaaaxpMA5OZmYnLLrsMGRkZLvlaMACSOzEAUttK8+qmfant/1dry+e26WDGNr8vNWG2WHG+uBKJ2cUIS87DjtgsLAtLwZTdpzBk63H8a1UU3p1/GH/8YT9+OyEED47YhTsG+ek2itPd7Y5BfnhgxC48MzEE/WYdxIdLIjBgXQxG7IjHjODTWHk4FaZj5xCWnIek3BIUV1QzNLbBkwNgZzRr1iz07du3ze2+++47fPrppy47LwMguRMDILXtdJAKeTMebvpc+Hz13Kq3O76uTshqVeEuKrUAO49lYeH+Mxi5Mx5frDqKN2cfxJNjg3G7hjB320AT7vMNRJ9xe9B36j68Pusg3pl/CP2XROCzFVH437oYDNx8DL7bT2B8wElMDzqNOaHJWLj/DBYfOIvlh1KwKjwV6yLTsDEqA1uiM7A9Ngt+x88hIC4bAXHZ8D9+Dn7Hz2HnsSzsiM3CtphMbIvJxJboDGw+moGNURlYH5mOFYdTsejAWcwOTcK0oFOYEHASo3bG4/ttcTBuOoYB62Lwxaqj+HBJBN6eewh/mL4fz0wMwcOjgnD30ABNofGe7wPw/KRQvDP/EP67Nhpj/RKw6MBZBMRlIz6rCCWVzk094m0YAF2rpqYGo0ePbnMt4MmTJyMnx3UrJDEAkjsxAFLb9k5UIW/TJ02fS49Uz03qpaaK6SIulFbh8Jl8rI1Iwzj/k/h8ZRR+P30/7vnesWDTY6AJD47YhRcmh+LteYfw+cooDN5yHFN2JWLpwbPYFpOJkMRcRKUW4FROMc4VlqOk0vkpNTozs8WKoopqnCssx+mcYkSmFGDXiWysj0zH3L3JGOufgO82HsMny4/grblheH5yKHoPC3Q4JD40cjf6zTqIL9dEY1JgIrZEZyAusxAV1d4/byUDoHdgACR3YgCktq3/uwp5YTOaPlddDgy/Sj3vhWsDV9VYEJdZiA1H0jFqZzw+WBSOR0cHtXmVrs+4PXh77iF8uUZdnVpy8CwC4s4hJv0icooqUGN2zWLxXVFpZQ3O5pXiUHI+tsVkYv6+ZIzYoa6yvj7rIB4csavN78+zE0Pw8bIjmBBwEqZj55BeUOZV4ZoB0DswAJI7MQBS22Y9pgLe6aDmn//hQduE0Ps6ti4Xs1qtSC8ow/bYLIzYEY83Zx9EryH+LQaJp8bvwd8XR2DYtjgsPnAWe07mIPl8CSprvP8KU2dXVFGNE1mFCIg7h3l7kzFw83G8PfcQHmglHD4wYhc+WBSOiYEnERSfg8Lyar1fRrsxAHoHBkByJwZAap25GhjxCxXwClsY2bbmXfV8+PyOrc0FMi+WY2NUBgasj8ETY4ObDQb3+Qbi3fmH4bv9BNZEpOFo2oUu38fMU9X20QxLysOysBQM3Hwcr808gJ6Dm/bL7DHQhD9M34/hO04g8EQ2LpZV6V2+wxgAvQMDILkTAyC1LvekCndjbmm5j1/QcLXNzgEdW1s7mC1WRJwtwBi/BDw/KbTJP/2eg/3w2swD+H5bHDYfzcCZ8yVedWuQmldZY8bxjEKsCk/FdxuPNfuzcdtAE/48JwxzQpNxOqe4U/9cMAB6BwZAcicGQGrdia0q3C14oeVtYtepbZb8sePqckKN2YKQxFz83/rYJv3DbhtoQr9ZBzEh4CT2nz6P8ireviUlt6gCO2KzMHjLcbwwuWkg/O2EEIz1S8CJrMJOFwYZAL0DAyC5EwMgtS50nAp3W79oeZusGLXNhNs7ri4HxGcVYdTOeDw8quGgjfuH78L/1sXAdOwciio8t58XdazMi+VYcSgFf18cgV6DG/YNfXHKXswKSUJOUecIXAyA3oEBkNyJAZBat6F/yyOAa1WVqeXgfH3UpNE6qjZbsCM2C2/OPthkSpDvt8UhLDkP1RyBSxqVVtbA//g5fL4yqsFAoTsG+eGL1UcRfiZf16uCDID6yc/Px3XXXddglZLmvPPOO5g8eXKr2zAAkjsxAFLrZj1uGwG8u/Xtpt+vtks50DF1NVJcUY3ZoUl4fExwg/58n6+Mwu74HFTVMPSRexSWV2N9ZDr+PCeswZuOl6ftw/bYLJgtHR8EGQD1M2DAAHzySd2cqaGhoU2WsgOAuLg4XH311SgsLGx8CDsGQHInBkBqmbkaGHGNCnYX01vfdvVf1HaRCzumNpvSyhrMDk1qML3Hw6N2Y+ruU8gt5j8/6ljxWUUYuPkY7hpad1Xw+cmh2BKdAUsHBkEGQH2UlZXBx8cHhw8ftj/WUgAEgEceeQSzZs1q8XgMgORODIDUsvxkFepG39j2Kh+7hqpt/b7tkNIsFivWRabhNyN3N/hHuzEqg/Pwke4Ky6oxPeg07h9e98bklRn7EX4mv0PO78kBsLKyEl9++SWuu+46XH755XjqqacQGRkJoC5MBQYG4sEHH0S3bt3w/PPPIzc3F/7+/rj77rvx85//HO+99x7Kysrsx7RYLBg7dix69OiBbt264f7778fGjRsbnHf79u3o2bMnunXrht/97ndYvnx5g+CWn5+Pd999FzfffDOuuOIK9O7dG2vWrGlwjI0bN+K6666zf56SklIb0uytf//+9udHjBiBp59+usWvBQMguRMDILWsdg3g2U+0vW3UUtuawG+5vayY9It4feYB+z/WZyeGYEt0hi632ohaU1xRjVkhSQ2WsPt8ZZTbB4s0CQ5WK1BVqk9zsi/kf//7X9x8883w9/dHfHw8+vfvj6uvvhoFBQX2APjEE0/g4MGDiI6ORs+ePfHss8+ib9++iI6Oxv79+3HNNddg/Pjx9mOOHj0ad999NwIDA3HmzBksXboUl19+Ofbu3QsAOHv2LC677DJ88803SExMxNq1a3HLLbc0CICZmZmYNGkSYmJicObMGcyYMQM//vGPERER0aD23//+9/bPzWYzNm/eDBHBqVOnkJ2d3eCWb0BAAH7yk5+gsrLSse9jPQyApBUDILUsYoEKdWvea3vbM3vVtjN+47ZyKmvMGOuXgB4D1T/Se4cFYuH+MxzUQZ1eXkklBm85jtsG1k0uvikqw20DRZoEh6pS9fupR6sqdbju0tJSXHbZZVi9erX9serqatx8882YOHGiPQAGBwfbnx83bhxEBGfOnLE/9tlnn+Hll18GoK4o/vSnP8WhQ4canOvjjz/Ge++pv21GoxG9e/du8PyQIUNavHVb65VXXsHXX39t/7xfv374xz/+0WCb1m4BHzt2DCKC1NTUZo/PAOid/iUix0Wk2NYOi8gf6j1/iYiMFJFsEakQkWAR6dXoGN1EZLaIFIhIqYhsFpEbnKyDAZBaFjhY/QEPGNT2thfT1bYjrgEsrr8FG59VhL5T99mvogxYF8M+fuRxEs4V4bV6V68/WhqJ/JLmr/5o4akBsKVA9MYbb+Cjjz6yh6nz58/bn1uyZAl++tOfNth+2LBheOihhwAAJ06cgIjgyiuvbNAuu+wyPPbYYw2OX9/27dsbBDez2YyRI0eid+/euPrqq3HllVfi0ksvxdtvv23fp2/fvvjii4ZTZrUWAE+fPg0RQUJCQrNfDwZA7/SaiPxRVKi7U0TGiEi1iNxre94oIoUi0k9E7heR7SJyVlToqzVXRNJF5AUReVhUiAxzsg4GQGrZmvfUH/CIBW1vazEDI69V219o/t1se62NSLPPu/abkbux60S2S49P1JFqzBbMCkmy/0w/PiYYUakXXHoOT70F7GgArB+mli5diu7duzfY3tfXFw888AAAIDw8HCKCvXv3IikpqUFLT09vcPz6GgfAcePG4ZprrsHKlSsRGxuLpKQkvPLKK+jXr599n/fff99+VbFWawGwtra8vOanz2IA7DouiMjHoq7+ZYvIN/We6y4ilSLybr3Pq0XkrXrb3C3qh+EJJ87JAEgtm/2EbQqYIMe2n/mI2j45xCWnr6qxYPCW4/arJR8vi0SeG66WEOkhMbsYz9tWGLljkB/WRKS57NieOgiktLQUP/nJT5rcAr7lllswadKkdgXA4uJiXH755VixYkWL5zUajbjvvvsaPDZ06NAG53r11Vcb3N61WCzo1atXgwA4adIk+3lrhYWFQUSQn990ANCiRYvwy1/+ssW6GAC9349FBbsqEfm1iNwu6pv6YKPt9onID7aPX7Btc1WjbdJEZIAT52YApOZZrWr0r6+PGg3siFVvq+2PLNZ8+tLKGnywKBwGowk9Bpowc8/pDp1Gg6gjlFTW4IvVR+1vciYFJrqkX6CnBkAA+Oqrr3DzzTcjICCgwSCQCxcutCsAAqo/3zXXXINly5YhOTkZR48exYwZM7Bs2TIAdYNAvvvuO5w6dQrr16/HL3/5S4iIfdDGgAEDcOuttyIsLAwJCQn45JNP4OPj0yAAHj9+HJdeeikuXKi7opuZmYlLLrkEy5Ytw/nz51FSUmJ/rn///k36DNbHAOi97hPVd88s6nbvH22P9xH1Tb2p0fYbRGS97eP3RQXGxiJFZEIr57xc1A9LbbtFGACpOcU5KswNvwqoqXJsH3+j2mfXEE2nLiitwuuz1Eoedw8NQHBCjqbjEXVmVqsVU3efsofAbzbEah7R7skBsKKiAl9++SWuvfbaFqeBcTYAWq1WTJ8+HXfddRcuu+wyXHfddXj55Zexb98++za108BcfvnleO655zBnzhyIiP1rWFBQgH79+uFnP/sZrr/+egwdOhR///vfGwRAAHjssccwb968Bo+NHDkSN954Iy655BL7NDAVFRXo3r17gzkDm/taMAB6p5+ISE9R/ffGiUieqCuA7gyAw6XRnETCAEjNSTuswtzU3m1vWyt8vtpn7fvtPu3Fsiq8PE0N9nhwxC5Ep7m2bxRRZ7U+Mh23D/KDwWjC1xtiNV3x9uQA2FmMHj261duzLTGZTLjnnntgsbQ+O8GcOXPw0ksvtboNA2DXESwi88W9t4B5BZAcE7NGhbllrzq+z+ndtnkDn2zXKYsrqu3z+z0yOghJucXtOg6RpzIdO2cPgd9ujG337WAGQOfNnj0bkZGROHPmDFasWIHu3btjyJD23c2YNm2afYBJSxYuXIjExMRWt2EA7DpCRGSZ1A0C+brecz7S/CCQP9fb5i7hIBBylZAxKsxt/9LxfZxZOaSRqhoL/jLvkP3KX2I2wx91TTtis+zzBU7Zfapdx2AAdN7//vc/3HTTTbj88svRq1cvjBw5EjU1NbrWxADoncaJyDMi0kNUX8BxImIVkZdszxtF5KKIvG57fps0Pw1Mmog8L+o28iFbcwYDIDVv0ycqzB2Y6vg+NVWqz6CvD1Ds+FQtVqsVxk3H7JM7H89oeXF0oq5gbUSavU/gpqgMp/dnAPQODIDeabGIpIrqx3de1O3fl+o9XzsRdI6oK3/BouYLrK92IugLIlImIltE5EYn62AApOYtfFEFuRNbndtv2n1qv9Qwh3dZcvAsDEYTbhtoQkhirpOFEnmn8QEnYTCa0HOwH6JSC5zalwHQOzAAkjsxAFLzJt6hglxWjHP7LX9d7Re90qHNI1MK7Le7Fuw70/YORF2ExWLFv1ZFwWA04cmxwbhY5uBofDAAegsGQHInBkBqqrK4bhmnCidvx+78n9oveGSbmxZVVKPPuD0wGE34am2029ZFJfJUxRXVeHZiiG0i9CMO/47UBofy8nI3V0juVF5ezgBIbsMASE1lH1chbnwP5/c9+IPad8OHbW761dpoGIwmPD1hD4orqttRKJH3i8sstC8btywsxaF9qqurkZCQYJ/EmDxTfn4+EhISYDY3XV+dAZC0YgCkpuK3qxC34Hnn903Yqfad90yrm+08lgWD0YTbB/m5fB1UIm9T20/2nu8DkHmx7at6VqsVqampSEpKQllZGSoqKtg8qJWXl9vD37lz55r9HjMAklYMgNRU7VW8jS0vUdSinBNq33G/anGToopqPDI6SE1zsav1ebCISPUHfGtuGAxGEz5aGunQreCqqiokJiYiISGBzUPbuXPnWvxeMwCSVgyA1JQT/fiaqCyp6z9Y3vyVveE7TsBgNOG5SaGoqG56a4OImkrKLUbPwWqS6B2xWQ7tY7FYdL+axda+1txt3/oYAEkrBkBqank/p0byNjGxp20EcXSTp05kFdpH/e47dV5joURdS+2awY+ODkJZlb6TFJO+GABJKwZAamr6/SrApRxs3/61cwjGbW7wsNVqxdu21T6+WH3UBYUSdS2VNWY8NV6NnJ+557Te5ZCOGABJKwZAashcDQy/WgW4IsduMzWx+VO1//4pDR7ee+o8DEYTeg3xR5YDHdmJqKltMZn2VXPySyr1Lod0wgBIWjEAUkMFZ1V4G3U9YLG07xj2dYT/Y3/IarXitZkHYDCaMHJnvIuKJep6LBYrXpmxHwajCb7bT+hdDumEAZC0YgCkhpL3qPA289H2HyNmjTrGslftDwXEZdunscjjVQsiTQ4m5cFgNOGOQX4OTQtD3ocBkLRiAKSGIhep8Lb6L+0/RtphdYypvQGoKxZ9p+6DwWjCpEBO+0LkCu8tOAyD0YThO3gVsCtiACStGACpoV1DVHjzN7b/GMXZ6hjDrwJqqhByMhcGowm9hwWisJwrfhC5wj5bn9q7hwbgQqnj6wSTd2AAJK0YAKmhte+r8BY+r/3HsFqBUTeo4+Qn4/2F6krFaBP7/hG5itVqxR9/UH0BpwdxRHBXwwBIWjEAUkNznlLB7dQubceZ9Tjg64PU8O32Jd8yLpS5pkYiAgBsj1VLKj44YhfnBexiGABJKwZAqmO1AmNuVgHw/Cltx1rzLuDrg01zfWEwmvBvzvtH5HI1ZguenqDmBVwVnqp3OdSBGABJKwZAqlNy3raMW3egRuNI3YCBgK8PFg59DwajCTHpF11TIxE1sHD/GRiMJvzxh/0OrRFM3oEBkLRiAKQ66REqAE75tfZjhc8HfH0QOPQFvDm7nSuKEFGbLpRWoddgfxiMJhzL4ButroIBkLRiAKQ6setUAFz6iuZDWU8FAr4+SPi+N9YfSXdBcUTUkv+ujYbBaIJx0zG9S6EOwgBIWjEAUp3Q8SoAbvu35kMdi4kEfH1QNuw6lFZw6hcidwo/k2+faL2Yv29dAgMgacUASHW2fKYC4L5Jmg/13bpIWIZ1V8crOe+C4oioJVarFS9MDoXBaMLKwxwM0hUwAJJWDIBUZ9FLKrCd2KLpMCWVNbh7aAAyh92mjpce4aICiagltYNB2Oe2a2AAJK0YAKnOxDtUYDsXq+kw6yLT1MjfkX3U8Y6td1GBRNSSnKIK9BhogsFoQnoB59z0dgyApBUDICkVRbYpYHzUxxrUrvyRMPdv6nih411UJBG15t356ndvdmiS3qWQmzEAklYMgKSci1VhbcLtmg6TV1KJ22xXIS4GjFHH3PK5i4okotasiVBX31+etk/vUsjNGABJKwZAUk5sUWFt4YuaDrPycCoMRhNem3kAOL5RHXPxyy4qkohac7GsCj0H+8FgNOF0TrHe5ZAbMQCSVgyApOyfrMLa5n9qOsx7C9QtqHl7k4HMKHXMyXe5qEgiass/lkbCYDRh8q5EvUshN2IAJK0YAEnZ9oXm/nrni+tu/6YXlAFlBXX9CqvLXVgsEbVkW0wmDEYTnp0YwqXhvBgDIGnFAEjKkj/YRuxuaPchVthu/74+84B6wGoFxt6qjpt70kWFElFrSitr7EvDneJtYK/FAEhaMQCSMvkuFdQyotp9iNoRiPP3Jdc9OPdpddxEfxcUSUSO+HBJBAxGE2aFcDSwt2IAJK0YAAmoKqu7VVtW0K5DFJZX4/ZBqvN5Wn69OcjW26aCOTzHRcUSUVtWh6vRwK/P4qTQ3ooBkLRiACQgJ16FtHG/avchtsdmwWA04cUpexs+sft7dWy/bzQWSUSOyi2qgMGo+uPmFFXoXQ65AQMgacUASEDCThXS5j/b7kP8d200DEYTxvk36ut3dLk69oo3NJVIRM7pN+sgDEYTVoVzbWBvxABIWjEAEnDwBxXSNn7Urt1rzBbcP3wXDEYTIlMa3UJOPaSOPbW3CwolIkfNCkmCwWhC//HY/wwAACAASURBVCVci9sbMQCSVgyABOz4SoW0PaPatXv4mXwYjCY8OGIXzJZG006U5tn6F3bnVDBEHeh0TjEMRhN6DfZHSWWN3uWQizEAklYMgAQse02FtJjV7dp9jF8CDEYTBqyLafqk1QqMs00Fk3NCY6FE5Cir1YpnJobAYDRhd3yO3uWQizEAklYMgARMvVcFtLTD7dr9+cmhMBhNMB071/wGC15Qxz+xVUORROSs77fFwWA0YcjW43qXQi7GAOi5BonIEREpEZHzIrJNRO5qtM0lIjJSRLJFpEJEgkWkV6NtuonIbBEpEJFSEdksIjc4UQcDYFdXWaJpCpj0gjIYjCbcMcgPRRXVzW+05TN1/H0TNRZLRM4ITsiBwWjC0xP2cFUQL8MA6LkCReRDEblXRB4QET8RSRORK+ttYxSRQhHpJyL3i8h2ETkrKvTVmisi6SLygog8LCKHRSTMiToYALu6rBgVzibc1q7dV4Wr1T/enneo5Y32TVLn2PJZO4skovaovyrI2bxSvcshF2IA9B7XifpGPmP7/BJRV/6+qbdNdxGpFJF3631eLSJv1dvmbttxnnDwvAyAXd2xDSqcLf59u3b/bEUUDEYTZu453fJGJ7aqcyx4oZ1FElF7vbdArdCz9OBZvUshF2IA9B49RX0je9s+v932+YONttsnIj/YPn7Bts1VjbZJE5EBDp6XAbCr2zNKhbPtXzq9a43Zgt6+gTAYTYhNv9jyhjknbBNN36oGhRBRh5m3NxkGowkfcjoYr8IA6B1+JCImETlY77E+or6xNzXadoOIrLd9/L6IVDVzvEgRmdDCuS4X9cNS224RBsCurXaptkOznN41KvUCDEYTHmhu+pf6qsvVNDC+PkDJeQ3FEpGzTmYXwWA04a6h/qioNutdDrkIA6B3mCsiqSLyy3qPuSsADrcdt0FjAOzCZj2ugtnp3U7vOi3oFAxGE75YfdSBjXur86S20leQiFzOarXisTFBMBhNOHA6T+9yyEUYAD3fLBHJEJHbGj3urlvAvAJIdcw1wMhrVTC7kOL07n+aEwaD0YR1kWltb7ziDXWeo8udr5OINPlmQywMRhNGm+L1LoVchAHQc10iKvxlSdOpXWqfzxaRr+s95iPNDwL5c71t7hIOAiFH5SerUDbqesBicWrXwvJq3D7IDwajCZkXHVjhw+9bda5dQ9tZLBG1185jWTAYTXhp6l69SyEXYQD0XHNETfHyrIjcWK9dUW8bo4hcFJHXReQ+UXMFNjcNTJqIPC9qGphDtuYoBsCuLNFfhbI5Tzm9a0BcNgxGE16YHOrYDhEL1LnWvOv0uYhIm4tlVbhtoAkGowlZjrxho06PAdBzNemHZ2sf1tumdiLoHFFX/oJF5M5Gx6mdCPqCiJSJyBZRQdJRDIBd2cHpKpRt/MjpXQdvOQ6D0QTf7Q4u75Ycos414zdOn4uItHtj9kEYjCasj0zXuxRyAQZA0ooBsCvb9oUKZaHjnN71txPUGqN7Tjq4xmhxtjrX8KuA6gqnz0dE2kzZrQZt/duRQVvU6TEAklYMgF3ZwhdVKIvb5NRuqfmlMBhN6DnYD6WVNY7tZLUC436lzpfNdUmJOtqRlALHpm0ij8AASFoxAHZVDQJZnFO7rjisln97Z76TU7os/r0637H1zu1HRJpVmy3oPUxN3H4so5WJ28kjMACSVgyAXVVJrgpjvt3VRM1O+HT5ERiMJswKSXLunDsHqHMG+Tq3HxG5RLt/d6nTYQAkrRgAu6raQRk/POTUbvWvIhzPKHTunLUjgVe/49x+ROQS7b56T50OAyBpxQDYVYXNVGFs3QdO7Vbbj+jBEbtgcbYfUcoBdc5p9zm3HxG5REpeO/rvUqfEAEhaMQB2VVs+t40AHu/UblN2JcJgNOE/a6KdP2dpvu22sw9QWeL8/kSkidVqxdMT9jg3gp86JQZA0ooBsKua+7QKYgk7ndqt3yyNc4lN7KnOmxnVvv2JSJNBzs7hSZ0SAyBpxQDYFdVfA7jgrMO71V9N4FxhO1cTWPYa1wQm0lFA3DnnVvGhTokBkLRiAOyKck+qEDbmZqfWADYdO6d9PdHAwercpq/bfwwiarfC8mr7GzmH1vGmTokBkLRiAOyKjm9UIWzhi07t9t3GYzAYTRi1M7795z62Xp17Ud/2H4OINHnTtizcusg0vUuhdmIAJK0YALui4BEqhO34yuFdrFYrnhgbDIPRhL2nzrf/3O28+khErjPVtizcF1wWzmMxAJJWDIBd0co/qRAWscDhXZJyi2EwmtBriD8qqs3tP7e5Bhh1vTp/fnL7j0NE7RaVymXhPB0DIGnFANjVWK3AhNtVAMs44vBuiw6chcFowgeLwrXXsOB52xrEm7Ufi4icVlNvQvfYdC4L54kYAEkrBsCupjBDha/hVzu1BFz/JREwGE1YsO+M9hp2fMUl4Yh09s8Valm4mXtO610KtQMDIGnFANjVJOxU4WvOUw7vUlFtxl1D/WEwmpCYXay9hshFqoaVf9J+LCJql5W2ZeHensdl4TwRAyBpxQDY1QSPVOFr2xcO73LgdB4MRhMeGxMEq9UF/YUyolQNE25Tt6SJqMOl5ZfBYDThjkF+KOGycB6HAZC0YgDsatoxAGSMXwIMRhO+3hDrmhpqKoER16g6LqS45phE5LRnJobAYDRhdzyXhfM0DICkFQNgV9LOASAvTA6FwWjCzmNZrqtl/nOqjuMbXXdMInLK0K1xMBhNGLTluN6lkJMYAEkrBsCu5GK60wNAUvJK7beJiiqqXVeL3zeqloBBrjsmETklJDEXBqMJj48Jdk33DuowDICkFQNgVxK3SYWuec84vMvC/WdgMJrw/sLDrq0ldq1tRZCXXHtcInJYRbUZ93wfAIPRhLjMQr3LIScwAJJWDIBdif93KnT5fevwLu/OPwyD0YRFB866tpa8JFXLqOsBswuvLBKRUz5drqaDmRZ0Su9SyAkMgKQVA2BXMv9Zp/rdFZZX445BfjAYTUjNL3VtLRYLMO5WVU9WjGuPTUQOWx+ZDoPRhFdnHNC7FHICAyBpxQDYVVSVASN+oQLXRccWgN8RmwWD0YQXJoe6p6YVb6p6wue75/hE1KbzxZXoMdAEg9GEnKIKvcshBzEAklYMgF1FykEVtibf5fDce1+tjYbBaMJYvwT31LR3oqppQ3/3HJ+IHNJv1kEYjCasDnfszSHpjwGQtGIA7Cr2T1Fha/3fHNq8qsaC3r5qrdCIswXuqak2lE7qxQmhiXQ0c89pGIwm9F8SoXcp5CAGQNKKAbCrWPWWCluHZjm0+Z6TOTAYTXhkdBDMFjeFs+oKYOS1qq78ZPecg4jadDqn2D7dU2EZB2V5AgZA0ooBsCswVwNjblZB65xjq3n83/pYGIwmDNsW597aFr+s6jq6wr3nIaJW9Z26DwajCeuPpOtdCjmAAZC0YgDsCtIjVcga9ys1+rYNlTVm++3f8DP57q0teISqbcvn7j0PEbXqh2B1G/jvi3kb2BMwAJJWDIBdwf7JKmStfd+hzWtv/z7qztu/tU4Hqdqm9mY/QCIdJZ8vsd8GvlBapXc51AYGQNKKAbArWN5PhazDcx3afMD6GBiMJvhuP+HmwgBUlQIjrmE/QKJO4PfT98NgNGFdJEcDd3YMgKQVA6C3q6kCRt+oAlZO24GussaM3sPcPPq3saWvqPoiFnTM+YioWbNCkmAwmvDBonC9S6E2MACSVgyA3u7sfhWuJtzuUP+/ncey7IvDW9x9+7eWk7eoicg9UvJKYTCacNtATgrd2TEAklYMgN5u11DbIIvPHNr8b4sjYDCaMCkw0c2F1ZN5VNU49pdcF5hIZ3+eEwaD0YTZoUl6l0KtYAAkrRgAvd2sxx1e/zfrYrl9SaiUPBev/dsaixkY30PVmXa4485LRE3Urg383KRQWDkwq9NiACStGAC92cV0FaqGXwWUtd2fr3Y1gL/MO9QBxTWy8SNVa5Bvx5+biOxKK2twz/cBHdsPmJzGAEhaMQB6syOLVaha1LfNTS0WK347IQQGowmbojI6oLhGjm9Utc56rOPPTUQNfLtRTQT/9QbHJo6njscA6LmeEZGdInJO1DfwjUbPXyIiI0UkW0QqRCRYRHo12qabiMwWkQIRKRWRzSJyg5N1MAB6s1Vvq1C1b2Kbm4Yl58FgNOHeYYEoq6rpgOIaKb8IjPgFp4Mh6gSiUgtgMJpw99AAFFewX25nxADouf4gIqNF5E1pPgAaRaRQRPqJyP0isl1EzooKfbXmiki6iLwgIg+LyGERCXOyDgZAb1VRWDe/Xu7JNjf/ZPkRGIwmDNpyvAOKa8Gy11S9YTP0q4GIYLVa8bspe2EwmrD4wFm9y6FmMAB6h8YB8BJRV/6+qfdYdxGpFJF3631eLSJv1dvmbtuxnnDi3AyA3urYehWmZj7a5qYpeaX2wR9JuSUdUFwLwuepmhf/Xr8aiAgAsCo8FQajCU+N34Mac9tTSFHHYgD0Do0D4O22xx5stN0+EfnB9vELtm2uarRNmogMcOLcDIDeau37KkztGdXmpsO2xcFgNOHDJTqvAVo7aMW3O1CUpW8tRF1ceZUZD47YBYPRBL/j5/QuhxphAPQOjQNgH9tjNzXaboOIrLd9/L6IVDVzrEgRmdDKuS4X9cNS224RBkDvU1kCjLpehans1m/pFpZV20f8HTid10EFtmJRX1X3oVl6V0LU5U3ZlQiD0YQ3Zx/UuxRqhAHQO3RkABxuO3aDxgDoZWLXqhD1w0NAG/N4zQlNhsFowsvT9nWOOb8iFqja5z+ndyVEXV5ucQV6DfaHwWhCVCqnhOlMGAC9Q0feAuYVwK5g+esqRO2d0OpmxRXV9ls8G/WY+qU5JeeB4VdzNDBRJ/HdxmNcH7gTYgD0Di0NAvm63mM+0vwgkD/X2+Yu4SAQKsxUfeh8fYALKa1u+kOwmvj5+cmhnauT94o3bf0XR+tdCVGXl15Qhp6D/WAwmnD4TL7e5ZANA6Dn+pmoK3wPivoGDrB9/Cvb80YRuSgir4vIfSKyTZqfBiZNRJ4XNQ3MIVtzBgOgtzkwVYWnJX9odbOLZVXoPSwQBqMJO2I72YCLuE3qNUy+GzDrMCchETUwZOtxGIwm/HlOWOfoKkIMgB7sOWmmL56ILLM9XzsRdI6oK3/BInJno2PUTgR9QUTKRGSLiNzoZB0MgN7EYgGmP6DC09HlrW46PuCkve+fxdLJ/qDXVNatDXwqUO9qiLq8nKIK3DlE9QUMSczVuxwCAyBpxwDoTU4HqdA09lagqrTFzdLyy+x/zHfH53RggU4IGKRey5r39K6EiACM8UuAwWjCi1P2orozdRnpohgASSsGQG+y+i8qNAUMbHETq9WKj5ZGwmA04a8Lwzvv7Zzck+q1DL+qzb6MROR+F8uq8NDI3TAYTZi3lwO09MYASFoxAHqLgrN1gz/yTre42a4T2TAYTeg52A/J53Vc9cMRy/vZAu0gvSshIgAbjqTb1wjOuliudzldGgMgacUA6C12DlBhacWbLW5SUlmDPuP2wGA0YUJA2+sD6+70bvWaxtwCVPBnlEhvFosVb80Ng8FowqfLj3TeOwhdAAMgacUA6A1Kztet/HF2f4ubfbMhFgajCX3G7UFZlQeMrrVYgJmPqNd1YJre1RARgJPZRbhjkJoWZlNnmT+0C2IAJK0YAL1B0HAVkhY83+LKH/7Hz8FgNKHHQBPCPWkur+hV6rVNuL3VgS1E1HFm7lFziP76+wCk5vP3Ug8MgKQVA6CnKzkPjL5JhaSEnc1ucq6wHPcP3+U5t37rM9cA0+9Xr+/gD3pXQ0QAzBYr3p57CAajCf1mHeSoYB0wAJJWDICeLmCgbe3cZ5u9+ldeZcarMw7AYDTh1RkHUFXjgX+oo1eq1zi+B1B+Ue9qiAhA5sVy9PZVk8kP3RqndzldDgOga1wlIp+IyDgR+YXtsd+IWifX2zEAerILqcDIa1U4St7T5Gmr1Yr/rImGwWjCQyN3I72gTIciXcBcDcx8VL3OwMF6V0NENkHxOegx0ASD0YQVh1L0LqdLYQDU7n4ROS8iSSJSIyK32x4fLSIr9CqqAzEAerJ1f1WhaNmrzV79m7r7FAxGE+4Y5Of5a3jWTnI94hdAXpLe1RCRzezQJBiMJtw+yA97T53Xu5wugwFQu2ARmWj7uETqAmAfEUnVo6AOxgDoqZJDbBMlXw3kxDd5euH+MzAY1TvzVeGpOhToBqveUq959Tt6V0JENlarFf9bFwOD0YS7hvoj4myB3iV1CQyA2hWJyB22j+sHQIOoNXi9HQOgJ6oqrVvz1/+7Jk+vCk+1h78ZwS1PCu1xzp9SVwB9fYD4bXpXQ0Q2VTUW9F8SAYPRhHuHBSI67YLeJXk9BkDtzovIQ7aP6wfAl0QkQ5eKOhYDoCfy+0aFoCm/BioKGzw1d2+yPfyN9U/wvolag0fUTQtTmqd3NURkU1FtxrvzD9unhzlwmr+f7sQAqN0iEdkqIpeJCoC3icivRCRaRKbrWFdHYQD0NGf3qQDUaOCHxWK1L9ZuMJow1s8Lwx8A1FQCs59Ur3/dBy3Oe0hEHa+0sgbvLThsX25yR2yW3iV5LQZA7bqLSJCIXBQRs4iki0i1iOwTkSt1rKujMAB6ktJ8YOq9Kvzs+Mr+cFFFNf6xNNIe/ubv8/KF2rNi6m4FR6/Uuxoiqqeyxox/rYqy/z2avCsRFgvfqLkaA6DrPC0iX4jIdyLyos61dCQGQE9hrgGWvaZCzw8PApXFAID4rCI8PykUBqMJdw7xx9boTJ0L7SB7J6qvxcjrgKxovashonrMFitG7oy3h8APl0Qgv6RS77K8CgMgacUA6Cl2D1OBZ/SNQE48zBYrZocmoedgtSbnk2ODcTyjsO3jeAuLBVj9F/U1mXqvujpKRJ3KlugM3DnEHwajCQ+PCkJQfI7eJXkNBsD2+a8TzdsxAHqCqGV1/f7iNiEptxh/nhNmf3f96fIjXfPddflF4IeH1Ndl0UtAlYdOdE3kxeKzivDS1L32v1ffbozFxbIqvcvyeAyA7ZPSqJWKiFVELtia1fbYWb0K7EAMgJ1d/HZg+FWArw8qA4dhtCkedwzys0+3sOFIuncO9nBU7klg3K0qBK78s1o1hIg6lYpqM8b4JdhXDXlwxC6sCk+FmX0D240BULv3ReSgiNxV77G7RGS/iPxVl4o6FgNgZ3Y6yL7U2+kFH+KRUbvt76I/XhbpuUu7uVraYWDUDSoEbujPEEjUSUWcLUDfqfvsf8f+MH0/9pzM6dpvYtuJAVC7M1I3D2B9D4u6OujtGAA7qxNbYB1xDeDrgz0j+uI24w4YjCY8NykUIYm5elfX+ZzeXTcyePU7QHWF3hURUTNqzBYsPXgW9/kG2oPg67MOIuRkLoOgExgAtSsXkUebefwx23PejgGwEyraPxcWX3Xbd/vQl3GHcRseHxOMFYdSUFlj1ru8zutUIDDqehUCl74ClHFJKqLOqqC0CmP9E3D30AB7EPzdlL1YcTgVZVU1epfX6TEAardT1KTPv6n32MMiclREduhSUcdiAOwkaswW7EvIxP6pH9gHfKwa8iaeHrsbSw6eRUU1g59DUg4CY25RX8PpDwC5CXpXREStyCupxGhTPH79fV0QvM83ECN2xONEViGvCraAAVC760TEX9TAjypbs9geu17HujoKA6COrFYr4jILMdoUj1dHrUbE948Cvj6wDOuO1ZP+C/9jWagxW/Qu0/NkxwHTeqsQOOZm4NgGvSsiojYUVVRj8YGzeGZiiD0IGowm9J26D3P3JiPjAvs818cA6Dp3isjrtnanzrV0JAbADlZVY8G+U+cxdGscnhgbDINxJ74cNAhFw24EfH1QMeJGpIZt0rtMz1ear24D106fs/EfatoYIurULBYr9pzMwb9WRaGXbQ7B2vb76fsxZfcpHM/glUEGQNKKAdDNLBYrEs4VYdGBs/h4WSTuHVbX8fnpgYuxb9gz9pBiWfA7oOCs3iV7D3MNEDoeGH61+hpP7AkcW8/1g4k8RGF5NdZEpOEv8w7htoGmBmHw8THBGLA+BhujMpB5sVzvUjscA6B2S9po3o4B0MVKK2twKDkfc0KT8c8VR/DQyN0N/mgZjCY8NXInds0eAPPI61QwGXENEDpOBRZyvfRIYMZv6q4GLn0FyInXuyoickJBaRU2RWXgsxVRuKdef8Ha9szEEPzf+lisOJyKuMxCVHt59xkGQO22NmomEUkVkUIR2aJfWR2GAVCD/JJKhCXlYfGBs/h2YyxenravybtUg9GEe74PwN8XR2BBSAIyA6fCOrFnXRhZ9iqQd1rvl+L9aiqBfRPrRgn7dgc2fQzkJ+tdGRE5qaLajAOn8zAx8CTemH0Qt9smx6/f7hzijz/NCYPv9hNYG5GG6LQLKK30njfZDIDu8SMRmS8i3+ldSAdgAGxDjdmC1PxS7D11HssPpWD4jhP468JwPDwqqMkfnNr2xNhgfL4yCvP2JuNISgGqSi4AB38Apvy6LvhNuw84vpG3IzvahRRg/d/qvg/DrwY2fwpkxehdGRG1U3FFNUJO5mLKrkR8sCi8wRyDjdvTE/bg42VHMD7gJNZHpiP8TD5yiio8rk8hA6D73CUi2XoX0QG6fAAsrzLjbF4pwpLysCkqA7NCkjBk63H8fXEEnp0YYl92raX22wkh+GT5EUzelYiAuGzkFNWbgPj8KcD0NTD6prrAMflu4Mhirlaht3OxwKq36r4vtbeGT2xRVwuJyGNZLFacOV+CzUczMGpnPD5YFI5HRrf8pt1gNOGuof7oO3UfPl1+BCN2xGPBvjPYEZuFIykFyLhQ1uluKTMAus8fRSRP7yI6gNcFwGqzBQWlVUjKLUb4mXz4Hz+HlYdT8UPwafhuP4Ev10TjrwvD8fK0fXhgxK5W/yDUv5Xw0tS9+GT5EYzaGY91kWmISb/Y/O2E0nwgfD6w4PmG4WL2k8DRFVyhorPJPKpGCNcOFPH1AcYbAL9vgKxoXqEl8iIFpVU4lJyPpQfP4vttcfjb4gg8MzGk2VvIjVuPgSY8MjoIr844gP5LIjBgfQxGm+IxJzQZ6yPTERSfg6NpF5CaX4rCsmpY3LzOMQOgdlMbtWkisk5ESkRklo51dRS3BMCKajMulFYhv6QSucUVyC6sQNbFcqQXlCE1vxRn80qRlFuCUznFOJldhLjMQhxJKcDBpDzsOZkD/+PnsCU6A2sj0rAsLAXz9yXjh+DTmBBwEsO2xWHA+hh8uvwI3p1/GK/OOIDnJoXi4VFBuGuov0OBrrk+ei9MDsVfF4bj6w2xmLIrEWsj0nD4TD6yCyva/kUuzAQiFwIr/1S3HFnt7cU17wJn9jJIdHaFGUDwCHWFtn5wn34/sGsIkB4BWDrXFQAico1qswUpeaUITczFsrAUjPVPwJdrovH23EN4esIe9Brs/P+WHgPVhNZPjd+DRQdcP7sDA6B2oY3aHlEB8J8icqmOdXUUtwTAKbtPtSuIubLd5xuI5yaF4k9zwvDJ8iMwbjqGCQEnsXD/GWw+moHQxFwkZhejqKLa+b4fNZVAygEgZAww77cNA4OvDzDvGeDwXKDkvEu/rtQBLGYgKQjY+FG9ASM+ddPIbP4UiFkDFJ3Tu1Ii6iAWixV5JZWIyyxEUHwO1kemY05oMkab4jFgfQz6L4nAazMPoM+4Pc1eiJgVkuTymhgASSu3BMDpQacb/PDfPsgPvQb7484h/rjn+wD0HhaI+3wD8eCIXXh41G48NiYIz0wMwUtT9+K1mQfw1tww/HVhOD5eFokvVh3FgHUxGLj5OHy3n8CkwETM25uMVeGp2BaTiT0ncxCZUoCEc0VILyjDxbIq16+eUVkMnN0P7J2oRu02Dga+3YFFfYED0zii15tUlgAntqrRwmN/2TToz3oM2DkAiF2rRhPzKi8RAaisMSO3uAJJucWISr3glnkKGQC1CxGRq5p53Mf2nLdzSwA0W6yoMVvc3gfCLarKVL+wI4uBrV8Asx5XAa/xP/+JPYENHwLRK4HSPL2rJnerqQTO7gOChgPzn23+Z2LC7eqW/76JQGKAuq3MUEhEbsAAqJ1Vml/z93oRqengWvTgdYNAHGauUaN0T2xVt3LXvg/88FDz/9h9fdQULuv/BkQsAHJP8h97V1dWAMRvAwIHAwtfBEZe2/zPzXiDGl3sbwSOLgdSD6k3DPz5ISINGADb735bs4rIc/U+v19EHhKRQaImhPZ23h0Aa6qAvCTg1C7VJ8/vGzVQ44cHGw7WaHIl5zZg+etA8EjgpB9QnK33K6HOrqZSDRQJm6n6Cc5+ovWfsXG/Aha8AGz5DNg3SYXJrBgVLBkOiagNDIDtZxURi61Zm2llIvIP3apzzr9FhdVKEYkQkcec2NdzA6DVCpRfALKPq9ttEQuAIF/VX2vx74FpvYHhV7X8D9jXBxh9IzD/OWDbF8Ch2UByCFCSy3/A5Bo1lWq+wehV6grgijeAqb1bvspc28bcogLk6r+oNy1hM9SV6syjQHGOGqhCRF0aA2D7GUSkh6iw94jt89p2k4j8WLfKnPOOiFSJyEci8msRWSAiF6X529rN6XwB0GoFKorUYIqUA0DcJuDwHBXutv5L/ROd+WjDyZXbCnlz+gDrPgB2DwOilqkBHUVZnNaD9FFdDmTHqVC3byKw+Z/qauCkXo79TA+/Wk1Xs+B51XXB9H/qKmL0KiApGMhNUG+O+EaGyGsxAFKENJyv8EcikiUiAx3cv+MCYE2V6hSfGaVuqx5ZAoSOV6Mo176v+lFNuw8YdYNj/wTr366d91tgzXuA37fAwekqNKaFq6k6+E+QPEl1uXrzkxSkfkeChquJqhe9BEy+q+2r2vXbqBvUlfCFv1O/Hzv+C+wZra6Wx29T/RHzk9Uod/6e0fL1DgAAIABJREFUEHkUBsD2eV1ELqv3cWutM/uJiJhF5I1Gjy8Xke0t7HO5qB+W2naLuCMAxm9Tt2KXvaqmyhhvcC7U+fqoaTdm/AZY8gdgQ391C23/FHWV40yo+sdV7fqh9USdmsWs3thkHgVOmtQE5HtGqRHrK95Ut47b8/vWXFgMGcOwSNRJMQC2T/2Rv831/6ttFl2qc9zNor75TzZ6fKKoK4PNGW7bp0FzeQAMHdf8P5kR16jRtPOfA1a/A2z/su6KRMIO1Yn+QoqaioWI2q+6HCg4q66EJ+wAIhep38ud/1NX3Be9pFY5cbQrRZOweF+9sPiVupoftUwNuDp3TPWlZRcLIrdhAOza2hMAO+YKYHqk6rh+bL26WpebwNGNRJ1VZQlQcKZhWAwZWxcWF77YvrA44hfAlHsa9lXcO1GtiX06SPWDrCjU+9UTuZfV6paBWwyAXVt7bgE31vkGgRBR59UkLC5Ut4q3fwmsehuY+7SaJL2tkc4NunvcCsx5Sk2i7f8dcGgWEL+d0+KQ5yi/oEb8J+xQP7/+36m7XLOfVKP6w+e5/JQMgO3zXydaZxchIjPrff4jEcmUzjgIhIi6DnO1GmmfGdWwr+K2L4CVf1aBb3wPxwLimFvU+tqbPla3sY9vVP9sq0r1fpXUlbQ0en/cr9r+GQ4c7PJyGADbJ8XBdlavAp3wjqj5//qLyD0iMl/UNDA3OLg/AyAR6aeqVK2sc3q3Com7v1dLLDo6Lc7ku9Xgl93fA8c2qGOZa/R+VeTJLGa1gMCJLWoxgFVvOzZ/58Se6ud2w4dqyrHIRaqrw/lTbhmwyABIIiL/EZE0UfMBRojI407sywBIRJ1XdQVwPhFI2AkcmKquIC7qq6Z/anGQyvXqiuGOr4CYNWr0Mm8jU3OsVuBCqrqq7PetGtg0+saWf7bG3dpwBZ8TW4GcE7oMXGQAdK1LbK0rYQAkIs9UVqD6Ih5ZrOYTXfhiywNVJtym+mQdmKb6FnKEctdktQI58Wrlp7Xvt3yVedT1araK7f9Rs1SkhnW6NbwZAF3jYxE5IeoKWpXt4090rajjMAASkfewWNQVvxNbVL+rRS8BI69tPhBu+BA4upxrfXu7sgIgdq3qszfpzuZHq89/Vl0BPLZBXXH2gG4EDIDajRSRUhEZJ3WTP48TkRLbc96OAZCIvFtNpW1qqpnqKuCYmxuFgO4qKIbNUPOQkucrygLC56vFCIZf3fTq3oo3VJeC1DCPnXeWAVC7PBF5r5nH3xOR/A6uRQ8MgETUtZir1comIWPUHIWNrwgt6qvmKqws1rtSckZ1ubqCt7xf0wEbc55Syyqe2av6lXoBBkDtCkWkVzOP32l7ztsxABJR11aUpfp5LXu14VrLo29US+xlH9e7QmpNXpKaZHzsLxuGvoUvqqu6BWf1rtAtGAC1mykiU5t5fLKIzO7gWvTAAEhEVKsoS605PuM3DcPEstfUVDWdaBBAl5dyEFj9l4bfp6m91So2Xhr66mMA1G6miBSJGvixyNbibI/VhsPa5o0YAImIGrNa1QjjjR817EO28HfqNiLpJ+MIsPz1hsFv9TtAckiXGt3NAKhdqIMtRK8C3YwBkIioNRfT1IjiUTc0vCKYm6B3ZV3LhVQ1dYt99O41aq7HvCS9K9MFAyBpxQBIROSI4mzA7xsVPGqnDwny9dhRpB6jpgrYP7kugA+/SvXNvJCqd2W6YgAkrRgAiYiccSEFWPNu3ZWoab1VfzRyvXPHgFmP1X2tl76ilvsjBkAX6CYi34qIv4hEiUh0o+btGACJiNrjpB8w9d66q1LBI9UUM6SdxQIc/KHuauvEO4Bj6zkIpx4GQO1Wi5oLcK6IDBcR30bN2zEAEhG1V2UxsPVfDa9QlebrXZVnqyxu2Ndv7fv8mjaDAVC7IhF5Su8idMQASESkVdzmuhVGpt2n1psl511IAWY9rr6OI69V6zzzql+zGAC1SxCR+/UuQkcMgERErpCbAEy/X4WXcbcC6RF6V+RZchPq1uqddKdavo9axACo3R9EJEBEDHoXohMGQCIiVykrUEvJ+foAo29Sc9NR2zKjgPEG9XWb/YSakJtaxQCo3XWi5vmziEiJiFxo1LwdAyARkStVlQIr3lBhZtT1HCHcluw4dcXU1wdY8IIK0dQmBkDtgkXktIgYReRDEenfqHk7BkAiIlerqVSrU/j6qDVqzx3Tu6LOqeAMMKmX+jotegmoLNG7Io/BAKhduYg8oHcROmIAJCJyh+pyYPHvbdOY9FQrilCdsoK6PpOznwTKL+hdkUdhANQuWkSe0LsIHTEAEhG5S/lFYE4fFXLmPQNUV+hdUedgMdfdJp92n1plhZzCAKhdXxEJE5HnROQaUV/I+s3bMQASEbnTxTRgfA8VdrZ9wWlNALWEnq8PMPpG1QeQnMYAqJ3V1iyNWu1j3o4BkIjI3ZJD1Gohvj7A0RV6V6OvU7vqJnk+vlHvajwWA6B2z7bS/qNjXR2FAZCIqCPsn6xCz5hbum5/wLKCukEf/t/pXY1HYwB0vZ+LyD9FJFJ4BZCIiFzFYq6bI3D5613zVvCmj9Xrn/mIGiRD7cYA6DrPiMhyESkVNS3MeBF5VNeKOgYDIBFRR8lLAkbdoEJQ5CK9q+lYCTvU6x5+FZARpXc1Ho8BUJsbRWSgiCSJSK6IzBSRGhH5tZ5FdTAGQCKijnR4jm1+wFuBkvN6V9MxqsuBqfeq1x00XO9qvAIDYPvtFJEiEVkjIq+IyI9tjzMAEhGR+1jMwNynVRja/h+9q+kYeyeq1zvl10BVmd7VeAUGwPYzi8hUEenV6HEGQCIicq+0w7aRsN2Bc7F6V+NeRVlquheO+nUpBsD2e0JEFopIsYhEiBrxe60wABIRUUfY+JEKRave0rsS99rymW2pt75dc+CLmzAAaneliPxDRA6KSLWokb9fiRoN3BUwABIR6SE/GRh+tQpHqYf0rsY9zp+qm/8wkwM/XIkB0LXuEpGJIpItIhUiskPfcjoEAyARkV62f6nC0dJX9K7EPTZ9ol7fmnf1rsTrMAC6x49F5A1hACQiIncqzABG/EKFpIwjelfjWnlJdVf/smL0rsbrMACSVgyARER62vK5Cklr39e7Etfa+T9bH8e39a7EKzEAklYMgEREeso9WTciOC9J72pco6ygbsLrlAN6V+OVGABJKwZAIiK9rf6LbX1co96VuMa+Ser1zH2aI3/dhAGQtGIAJCLSW1JQ3eogVaV6V6ONuQaYfLd6PbFr9a7GazEAklYMgEREerNYgOkPqNAUtUzvarRJDFCvY3wPoKZS72q8FgMgacUASETUGYTNUMFp3jN6V6LNmnfV6wgcrHclXo0B0DMNEZFDIlIuIoUtbPMrEfn/9u48TKrqTuP4q0aZySRNcEEjwTUxroiT0cQkJuqYOIwZl5gMPCaZYCYSnThJfGJESUb2nQgqiLQadpcAihB2gigC4hIwCBIQEJq9ZROBBrr7zB+/2+mibFu6z13q3vp+nuc8cG+de87vuV0PvF1V59SUoM82Sf0lfSKvTytJ8yRVSCqTdE8jaiEAAkAh+OC92i1htr6ddDWNs3tT7ebW21YkXU2mEQDTqaukuyT9XnUHwGMkLZU0S1JrSW0klUvqldOnRNIWSWMkXSCpnSwsdmhgLQRAACgUNa+ezeqcdCWN8/Kg4GvfvpV0JZlHAEy39qo7ALaRfSXdyTnnbpe0W9JxwfEdknbkHEtSH0krGlgDARAACsWyiRagfn+ec1WVSVfTcEO/bvW/+njSlWQeATDd2qvuANhN0pK8c2fKftCXBMejJE3M63NV0KdZPXM2kT1ZaloLEQABoDAcqnCud0sLUavnJl1Nw5SvtLq7Hm9vZyNSBMB0a6+6A2CppBl55z4p+0G3CY5nShqW1+f8oM959czZJehzWCMAAkCBeP5OC1KT70q6koaZ08vqHn1z0pUUBQJg4eijOoJVXjs375r2ij8A8gogABSylcGegP2/YNvDpMXDl7L3X4wIgIXjJFnAq68dl3dNe8X/FnA+PgMIAIXk0AHbELpziXPvLki6miNTvip4+/cE5/bvSrqaokAATLf2qn8RSPOccx1ki0CaBMc1i0COzenTSywCAYD0m9DBAtW0e5Ou5MjUrP4deUPSlRQNAmA6nSbb3uV+SXuCv7eW9Kng8ZptYGZIuljStbK9AHO3gWkq2wZmlGwbmLaS9optYAAg/d7+kwWqgRem47t0H/+21buoNOlKigYBMJ1GqO7PCF6Z0+d0SVNle/uVSxqg+jeC3iCpYyNqIQACQKE58IFz3U4MNlT+W9LV1G/PNuc6N7Vad5UlXU3RIADCFwEQAArRyBssVM1/OOlK6rd4bPAVdlckXUlRIQDCFwEQAArRgiHB5+quT7qS+o3/b6tzdrekKykqBED4IgACQCGq2Vi524nOVexJupq6VVU51/csq3Pty0lXU1QIgPBFAASAQlRd7dygVhauVkxNupq6bVpi9fU81bavQWwIgPBFAASAQjXpl4W9Hcy8B6y+sW2TrqToEADhiwAIAIVq6XgLWI98LelK6jbiO1bfK8OSrqToEADhiwAIAIVqz1YLWJ1LnNu7PelqDneowrnuzYOtalYkXU3RIQDCFwEQAArZ4MssZC17PulKDrduodXV96x0bFadMQRA+CIAAkAh+9OvLWhNuTvpSg730gCr6+kfJl1JUSIAwhcBEAAK2bKJFrSGfCXpSg43+rtW18KhSVdSlAiA8EUABIBC9vfPATZ1bv+upKsxVZXO9WxhdW1aknQ1RYkACF8EQAAodDX7Aa6anXQlZuNiq6fX5ywMInYEQPgiAAJAoZtwmwWuOb2SrsS88qjVM/rmpCspWgRA+CIAAkChW1RqgWvUjUlXYsb/1Op5oU/SlRQtAiB8EQABoNBtejPnLdeqpKtx7sHWwVvSs5KupGgRAOGLAAgAha7ykHM9Pmuha8uyZGvZu71wN6cuIgRA+CIAAkAaDL/OQtcbI5OtY+VMq+PBS5Kto8gRAOGLAAgAaTDjdxa8Jt+VbB0v9LY6JtyWbB1FjgAIXwRAAEiDpeMteA27Mtk6Rt9sdbwyLNk6ihwBEL4IgACQBttXW/DqdpJzlQeTqaG62rm+Z1odZa8nUwOccwRA+CMAAkAaVFc717tl8O0bbyZTw+6NNn+XZs4d3J9MDXDOEQDhjwAIAGkx4jvJLgRZMa0wv5e4CBEA4YsACABpkfRCkLl9WQBSIAiA8EUABIC0SHohyFO32PzzH05mfvwdARC+CIAAkBblqyyAdT/ZuarK+OcfeJHNv+bF+OfGYQiA8EUABIC0qKq08Ne5xMJgnPbtrP0GkH074p0bH0IAhC8CIACkybBvWghbNjHeede8ZPMOvDDeeVEnAiB8EQABIE0m/o8FsTk945134VCb96lb4p0XdSIAwhcBEADSZOEjyQSx5//X5v1z93jnRZ0IgPBFAASANFk914LYoIvjnfexa2zepePjnRd1IgDCFwEQANLkg/LaxRgVe+KZs7rauZ4tbM6ty+OZE/UiAMIXARAA0qb/ORbG1r8az3w719t8XY937tCBeOZEvQiA8EUABIC0GXWjBbLXR8Qz38qZNt/gL8czHz4WARC+CIAAkDZTO1ogm94pnvleHmTz/bF9PPPhYxEA4YsACABp8+rjFsjGfD+e+Z79mc03t1888+FjEQDhiwAIAGlTsynzoFbxzPfoFTbf8knxzIePRQCELwIgAKTNnq3BSuCmzh3cH+1cVVXO9Tgl+Pq5ldHOhSNGAEyfMyQ9IWmtpP2SVkvqKum4vH6nSZoiaZ+kbZL6S/pEXp9WkuZJqpBUJumeRtRDAASAtKmudq53SwtlW96Kdq5dZbUrgCsPRjsXjhgBMH3+TdJwSd+WdJak6yVtlTQgp88xkpZKmiWptaQ2ksol9crpUyJpi6Qxki6Q1E4WFjs0sB4CIACk0WP/asHsrWejneedOTbPQ/8c7TxoEAJgNvxG0pqc4zaSqiSdnHPudkm7VftK4R2SdujwVw77SFrRwLkJgACQRs8F3wn8Qp9o51lUavOMbRvtPGgQAmA29JD0es5xN0lL8vqcKftBXxIcj5I0Ma/PVUGfZvXM1UT2ZKlpLUQABID0mTfQgtm4n0Q7z9R7bJ4Zv412HjQIATD9Pi97Ze+2nHOlkmbk9fuk7AfdJjieKWlYXp/zgz7n1TNfl6DPYY0ACAAp8/YUC2ZDvx7tPKNuinfTaRwRAmDh6KM6glVeOzfvmhaS3pH0eN75KAMgrwACQBa8944Fs+4n20rdqAy80OZ5d350c6DBCICF4yRZwKuv5X5e71RJK2Vv5R6dN1aUbwHn4zOAAJBGlYec63qChbOd66KZ4+A+22qmc4lze7ZFMwcahQCYTi1k4e8p2YrffDWLQJrnnOsge6u4SXBcswjk2Jw+vcQiEAAoHoMvs3C2alY0429ZZuP3amlbz6BgEADTp4WkVZJmB38/JafVqNkGZoakiyVdK9sLMHcbmKaybWBGybaBaStpr9gGBgCKx9M/tIC28JFoxl820cYvvSqa8dFoBMD0aa+P/oxgrtMlTZXt7Vcu2yewvo2gN0jq2Ih6CIAAkFazu1lAm/TLaMZ/sb+NP6FDNOOj0QiA8EUABIC0WvykBbQR/xHN+M/+zMZ/sV8046PRCIDwRQAEgLRat9AC2gMXRjN+6dXBt408F834aDQCIHwRAAEgrfZstYDW5TPOHaoId+w4v28YDUYAhC8CIACkVXW1cz1PtZBWvjLcsT8ot3E7N7XtYFBQCIDwRQAEgDQb+jULan+bHu646xcFby9fEO64CAUBEL4IgACQZs/8KJqtYN58xsYdfl244yIUBED4IgACQJrNvN+C2pS7wx33hT427sSfhzsuQkEAhC8CIACk2esjLKiN/m644z57u4370oBwx0UoCIDwRQAEgDRb85IFtQdbhzvuE9fauEvHhzsuQkEAhC8CIACk2a4NFtS6Hu9c5aHwxu1/jo274Y3wxkRoCIDwRQAEgDSrqnKue3MLa9vXhDPmgb3BFjAlzu3dHs6YCBUBEL4IgACQdoMvs7C2anY4421dbuP1bhnOeAgdARC+CIAAkHZPtrPAtqg0nPFWTLXxHr0inPEQOgIgfBEAASDtpneywDbtvnDGWzDExnvmv8IZD6EjAMIXARAA0u7VxyywjW0bznhTfmPjzbw/nPEQOgIgfBEAASDtVs22wPbwpeGMN+Z7Nt7rw8MZD6EjAMIXARAA0m77agts3U6yVcG+HvqSjbd6rv9YiAQBEL4IgACQdpUHnevSzELbrg1+Y1VVOdftRBtrx7vh1IfQEQDhiwAIAFkwqJWFtrXz/MbZVVa7sXRVZTi1IXQEQPgiAAJAFoy8wYLbG6P8xlk7L5qvlkOoCIDwRQAEgCyY/CsLbrO7+o3zxigbZ9RN4dSFSBAA4YsACABZ8PKDFtzG3eo3zuxuNs7ku8KpC5EgAMIXARAAsmD5JAtuw670G2fcrTbO/IfCqQuRIADCFwEQALJg818tuPU53W+c0qtsnOWTQikL0SAAwhcBEACyoOJ9C26dS5zbt7Px4/Q5w8bYvDS82hA6AiB8EQABICv6nW3hbeNfGnf9/l21IbLi/XBrQ6gIgPBFAASArHjsGgtvSyc07vpNS+z6fmeHWxdCRwCELwIgAGTFhNsswL30+8Zd/9Zzdv1j14RbF0JHAIQvAiAAZMWcXhbgnr+zcdfPG2jXj/9puHUhdARA+CIAAkBWLH7SAtzw6xp3/aRf2PVzeoZbF0JHAIQvAiAAZMW6hRbgHrigcdePvN6uXzw23LoQOgIgfBEAASAr3t8SrOJt6tyhioZfP/Aiu/7d+eHXhlARAOGLAAgAWVFd7VyPz1qIK1/ZsGsPHXCuy2fs2vc3R1MfQkMAhC8CIABkyZDLLcT9bUbDrnvvHbuuxykWJFHQCIDwRQAEgCx56hYLcq8Ma9h1K2fZdUMuj6YuhIoACF8EQADIkumdLMhNu7dh170yzK576pZo6kKoCIDpNEnSekkVkjZLGi3p1Lw+p0maImmfpG2S+kv6RF6fVpLmBeOUSbqnEbUQAAEgSxaVWpAb27Zh1027166b8dto6kKoCIDpdJekr0g6XdJXJS0IWo1jJC2VNEtSa0ltJJVL6pXTp0TSFkljJF0gqZ0sLHZoYC0EQADIklXBW7mDL2vYdWP/06579fFo6kKoCIDZcL2kaknHBsdtJFVJOjmnz+2Sdks6Lji+Q9KOnGNJ6iNpRQPnJgACQJbULObo3ty5qqojv+7hS+26d+ZEVxtCQwBMv+MlPSPp5Zxz3SQtyet3puwHfUlwPErSxLw+VwV9mjVgfgIgAGRJ5UHnujSzMLd745FdU1XpXLcT7ZodayMtD+EgAKZXX0l7ZT+8hZJOyHmsVNKMvP6fDPq2CY5nShqW1+f8oM959czbRPZkqWktRAAEgGxp6IbOO9db/67HO1d5KNraEAoCYOHoI/tB1NfOzel/oqRzJH1L9urfFElHBY9FGQC71FUbARAAMqTmK93+MubI+q950fo/eEm0dSE0BMDCcZIs4NXXjvuIaz8n+yFeHhxH+RYwrwACQNZN+oUFuj93P7L+rw+3/qO/G2lZCA8BMBtOk/0QrwyOaxaBNM/p00G2CKRJcFyzCOTYnD69xCIQAMC8gRboxv3kyPrPvN/6T7k72roQGgJg+nxZ0p2y7V1Ol3S1pPmS3lFtuKvZBmaGpIslXSvbCzB3G5imsm1gRsm2gWkr+0wh28AAQLFbNtECXelVR9b/6R9a/wVDoq0LoSEAps9FkuZI2i7bwHmtpKGyt2JznS5pqmxvv3JJA1T/RtAbJHVsRD0EQADImk1vWqDrc8aR9R/6Neu/Ylq0dSE0BED4IgACQNZUvG+BrnOJc/t31d+3utq5nqda320r4qkP3giA8EUABIAs6nuWhbpNS+rvt2dbEBabOndwfzy1wRsBEL4IgACQRaVXW7B767n6+7073/o9cGE8dSEUBED4IgACQBZN6GDBbm6/+vu99kSwBczN8dSFUBAA4YsACABZNO+BYCuYW+vvN/Ue6ze9Uzx1IRQEQPgiAAJAFq2YasHuka/W36/mW0PeGBVPXQgFARC+CIAAkEXb11iw63Zi/d/vO+CL1m/9q/HVBm8EQPgiAAJAFlVVOdfjFAt35Svr7rNv55FvF4OCQgCELwIgAGTVo9+wcLd8Ut2Pr19kjw84N9664I0ACF8EQADIqmd/Vv9K4DdG2uMjb4i3LngjAMIXARAAsmrewPpXAk/vZI9P7RhvXfBGAIQvAiAAZNWKaRbwhlxe9+M1K4Bf+0O8dcEbARC+CIAAkFU711vA63r8h7/mrbraud6n2eMb/5JMfWg0AiB8EQABIKuqq53rd3bd27zsWBuEwxOcO1SRSHloPAIgfBEAASDLxnzfgt4rjx5+/q3n7PyjVyRTF7wQAOGLAAgAWTanlwW98T89/Py0e+385F8lUxe8EADhiwAIAFm2+oXavf6qq2vPD/26nf/ruKQqgwcCIHwRAAEgyw7us6+D61ziXPkqO7dvp3Odm9q53ZuSrQ+NQgCELwIgAGTdH/7dwt7CoXb813F2/NCXkq0LjUYAhC8CIABk3YIhFvgeu8aOn/6BHc/ummxdaDQCIHwRAAEg697f7FyXzwTfCzzZtn7pXOLcpiVJV4ZGIgDCFwEQAIrBuFst9NW0kdcnXRE8EADhiwAIAMVgV1ntptC9Wzq3eWnSFcEDARC+CIAAUCz27XBu8Vjndm1IuhJ4IgDCFwEQAICUIQDCFwEQAICUIQDCFwEQAICUIQDCFwEQAICUIQDCFwEQAICUIQDCFwEQAICUIQDCFwEQAICUIQDCFwEQAICUIQDCFwEQAICUIQDCFwEQAICUIQDCFwEQAICUIQDCFwEQAICUIQDCFwEQAICUIQDCFwEQAICUIQDCV4kkV1ZW5nbv3k2j0Wg0Gi0FraysjAAILy1kTyAajUaj0Wjpay0ENMJRsidPSQStJlxGNT6N+8x9zl7jPnOfs9Sivs8tZP+PAwWlRPbEL0m6kIzjPseD+xwP7nM8uM/x4D6jKPHEjwf3OR7c53hwn+PBfY4H9xlFiSd+PLjP8eA+x4P7HA/uczy4zyhKTSR1Cf5EdLjP8eA+x4P7HA/uczy4zwAAAAAAAAAAAAAAAAAAAAAAAAAKz88lvSupQtIiSZclWk323CfpNUl7JG2TNFHSFxOtqDjcK9vSYVDShWRUC0ljJG2XtF/SUkn/kmhF2XOMpO6S1sru8WpJ/ye+TcLXNyRNlrRJ9m/EjXmPHyWpm6TNsvs+W9IX4iwQiENbSQck3SrpfEmlknZKap5kURkzXVJ7SRdIuljSFEnrJP1TgjVl3aWy/zTfFAEwCs1kvzQOl/3CeKakb0s6O8GasqiTpPckXSfpDEnfk/0i+YsEa8qCNpJ6SLpJdQfAjpJ2SbpBUitJz0taI+kfYqwRiNwiSYNzjo+WtFH26gmicZLsH51vJF1IRn1K0kpJ10iaKwJgFPpImpd0EUXgT5KeyDs3QfbKK8KRHwCPkr3yd3fOuaayd8jaxVgXEKnjJFXqw7/9jJT9xoNofF72j86FSReSUSMlDQz+PlcEwCgsl93jcbKPNSyWdFuiFWVTJ9krrecExxdL2irpB0kVlEH5AfCs4FzrvH4vSnowrqKAqJ0qe6Jfnne+n+yVQYTvaNlv9S8nXUhGtZN9Fq3mrZq5IgBGoSJovSRdIqmD7LNSP06yqAw6WvZqa7WkQ8Gf9yVaUfbkB8CvBuc+m9fvj5KeiasoIGoEwPgNlf1G/7mE68iilrJXR1rlnJsrAmAUDkpakHfuIUkLE6gly9pJKgv+vEjSj2SLbgja4SEAoijxFnDv/FARAAABr0lEQVS8Bsv+MT8z6UIy6kbZP9yVOc3JXjWplK2oRDjWSXo879wdss8PIzxlku7MO/c7SSsSqCWreAsYRWuRpIdzjo+WtEEsAgnTUbLwt1FsJRClT8s+V5nbXpM0WnzeMmxP6sOLQAbqw68Kws92SbfnnbtPtsgJ4fioRSC/zjlXIhaBIIPayp7YP5Z0nqRhsm1gTk6yqIx5RLalwDclnZLT/jHJoorEXPEWcBQulX0mrZNsUdMtkvaKxQlhGyH7hbxmG5ibJJVL6ptcSZnwKdkrfK1lAfCu4O+nBY93lP0/eL3srfeJYhsYZNSdsrd0DsheEfxysuVkjvuI1j7BmorFXBEAo/Id2YKbCklvi1XAUfi07Pm7TrUbQfeQfXwHjXel6v43eUTweM1G0Ftkz+/Zql2JDQAAAAAAAAAAAAAAAAAAAAAAAAAAAAAAAAAAAAAAAAAAAAAAAAAAAAAAAAAAAAAAAAAAAAAAAAAAAAAAAAAAAAAAAAAAAAAAAAAAAAAAAAAAAAAAAAAAAAAAAAAAAAAAAAAAAAAAAAAAAAAAAAAAAAAAAAAAAABApv0/yR1yvyGOTp4AAAAASUVORK5CYII=\" width=\"640\">"
      ],
      "text/plain": [
       "<IPython.core.display.HTML object>"
      ]
     },
     "metadata": {},
     "output_type": "display_data"
    },
    {
     "data": {
      "text/plain": [
       "<matplotlib.legend.Legend at 0x7f350a25bb70>"
      ]
     },
     "execution_count": 23,
     "metadata": {},
     "output_type": "execute_result"
    }
   ],
   "source": [
    "plt.plot(t, np.rad2deg(x))\n",
    "plt.ylabel('Amplitude')\n",
    "plt.legend([theta, omega])"
   ]
  },
  {
   "cell_type": "code",
   "execution_count": 24,
   "metadata": {
    "collapsed": true,
    "deletable": true,
    "editable": true
   },
   "outputs": [],
   "source": [
    "from pydy.viz import VisualizationFrame, Scene, Cylinder, Sphere"
   ]
  },
  {
   "cell_type": "code",
   "execution_count": 25,
   "metadata": {
    "collapsed": true,
    "deletable": true,
    "editable": true
   },
   "outputs": [],
   "source": [
    "sphere = Sphere(radius=l / 10, color='black')\n",
    "cylinder = Cylinder(radius=l / 20, length=l)"
   ]
  },
  {
   "cell_type": "code",
   "execution_count": 26,
   "metadata": {
    "collapsed": true,
    "deletable": true,
    "editable": true
   },
   "outputs": [],
   "source": [
    "bob_viz = VisualizationFrame(A, Pm, sphere)\n",
    "arm_viz = VisualizationFrame(A, Ps, cylinder)"
   ]
  },
  {
   "cell_type": "code",
   "execution_count": 27,
   "metadata": {
    "collapsed": true,
    "deletable": true,
    "editable": true
   },
   "outputs": [],
   "source": [
    "scene = Scene(N, O, bob_viz, arm_viz, system=sys)"
   ]
  },
  {
   "cell_type": "code",
   "execution_count": 28,
   "metadata": {
    "collapsed": false,
    "deletable": true,
    "editable": true
   },
   "outputs": [],
   "source": [
    "scene.display_ipython()"
   ]
  }
 ],
 "metadata": {
  "anaconda-cloud": {},
  "kernelspec": {
   "display_name": "Python 3",
   "language": "python",
   "name": "python3"
  },
  "language_info": {
   "codemirror_mode": {
    "name": "ipython",
    "version": 3
   },
   "file_extension": ".py",
   "mimetype": "text/x-python",
   "name": "python",
   "nbconvert_exporter": "python",
   "pygments_lexer": "ipython3",
   "version": "3.5.3"
  }
 },
 "nbformat": 4,
 "nbformat_minor": 1
}
