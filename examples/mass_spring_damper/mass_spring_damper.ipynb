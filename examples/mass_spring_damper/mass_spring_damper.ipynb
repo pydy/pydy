{
 "cells": [
  {
   "cell_type": "markdown",
   "metadata": {},
   "source": [
    "#Defining the Problem"
   ]
  },
  {
   "cell_type": "markdown",
   "metadata": {},
   "source": [
    "Here we will derive the equations of motion for the classic mass-spring-damper system under the influence of gravity. The following figure gives a pictorial description of the problem."
   ]
  },
  {
   "cell_type": "code",
   "execution_count": 1,
   "metadata": {
    "collapsed": false
   },
   "outputs": [
    {
     "data": {
      "image/svg+xml": [
       "<svg height=\"400\" id=\"svg2\" inkscape:version=\"0.48.3.1 r9886\" sodipodi:docname=\"mass_spring_damper.svg\" version=\"1.1\" width=\"400\" xmlns=\"http://www.w3.org/2000/svg\" xmlns:cc=\"http://creativecommons.org/ns#\" xmlns:dc=\"http://purl.org/dc/elements/1.1/\" xmlns:inkscape=\"http://www.inkscape.org/namespaces/inkscape\" xmlns:ns0=\"http://www.iki.fi/pav/software/textext/\" xmlns:rdf=\"http://www.w3.org/1999/02/22-rdf-syntax-ns#\" xmlns:sodipodi=\"http://sodipodi.sourceforge.net/DTD/sodipodi-0.dtd\" xmlns:svg=\"http://www.w3.org/2000/svg\" xmlns:xlink=\"http://www.w3.org/1999/xlink\">\n",
       "  <sodipodi:namedview bordercolor=\"#666666\" borderopacity=\"1.0\" id=\"base\" inkscape:current-layer=\"layer1\" inkscape:cx=\"200\" inkscape:cy=\"200\" inkscape:document-units=\"px\" inkscape:guide-bbox=\"true\" inkscape:pageopacity=\"0.0\" inkscape:pageshadow=\"2\" inkscape:window-height=\"744\" inkscape:window-maximized=\"1\" inkscape:window-width=\"1366\" inkscape:window-x=\"0\" inkscape:window-y=\"24\" inkscape:zoom=\"1.4125\" pagecolor=\"#ffffff\" showgrid=\"false\" showguides=\"true\"/>\n",
       "  <defs id=\"defs4\">\n",
       "    <marker id=\"Arrow1Mend\" inkscape:stockid=\"Arrow1Mend\" orient=\"auto\" refX=\"0.0\" refY=\"0.0\" style=\"overflow:visible;\">\n",
       "      <path d=\"M 0.0,0.0 L 5.0,-5.0 L -12.5,0.0 L 5.0,5.0 L 0.0,0.0 z \" id=\"path4821\" style=\"fill-rule:evenodd;stroke:#000000;stroke-width:1.0pt;\" transform=\"scale(0.4) rotate(180) translate(10,0)\"/>\n",
       "    </marker>\n",
       "    <marker id=\"Arrow1Lend\" inkscape:stockid=\"Arrow1Lend\" orient=\"auto\" refX=\"0.0\" refY=\"0.0\" style=\"overflow:visible;\">\n",
       "      <path d=\"M 0.0,0.0 L 5.0,-5.0 L -12.5,0.0 L 5.0,5.0 L 0.0,0.0 z \" id=\"path4815\" style=\"fill-rule:evenodd;stroke:#000000;stroke-width:1.0pt;\" transform=\"scale(0.8) rotate(180) translate(12.5,0)\"/>\n",
       "    </marker>\n",
       "  </defs>\n",
       "  <metadata id=\"metadata7\">\n",
       "    <rdf:RDF>\n",
       "      <cc:Work rdf:about=\"\">\n",
       "        <dc:format>image/svg+xml</dc:format>\n",
       "        <dc:type rdf:resource=\"http://purl.org/dc/dcmitype/StillImage\"/>\n",
       "        <dc:title/>\n",
       "      </cc:Work>\n",
       "    </rdf:RDF>\n",
       "  </metadata>\n",
       "  <g id=\"layer1\" inkscape:groupmode=\"layer\" inkscape:label=\"Layer 1\" transform=\"translate(0,-652.36218)\">\n",
       "    <path d=\"m 275.66301,434.91428 c 0,19.03056 -7.50518,34.45787 -16.76329,34.45787 -9.25811,0 -16.76329,-15.42731 -16.76329,-34.45787 0,-19.03056 7.50518,-34.45788 16.76329,-34.45788 9.25811,0 16.76329,15.42732 16.76329,34.45788 z\" id=\"path2985\" sodipodi:cx=\"258.89972\" sodipodi:cy=\"434.91428\" sodipodi:rx=\"16.763292\" sodipodi:ry=\"34.457878\" sodipodi:type=\"arc\" style=\"fill:#000000;stroke:#ffffff;stroke-width:3;stroke-linecap:round;stroke-linejoin:round;stroke-miterlimit:4;stroke-opacity:1;stroke-dasharray:none;stroke-dashoffset:0\" transform=\"matrix(2.2459897,0,0,1.0926436,-383.96398,479.35965)\"/>\n",
       "    <path d=\"m 65.840708,706.87545 260.530972,0\" id=\"path2987\" inkscape:connector-curvature=\"0\" style=\"fill:none;stroke:#000000;stroke-width:4;stroke-linecap:butt;stroke-linejoin:miter;stroke-opacity:1;stroke-miterlimit:4;stroke-dasharray:none\"/>\n",
       "    <path d=\"m 196.6927,949.24229 0,-55.92921\" id=\"path2989\" inkscape:connector-curvature=\"0\" style=\"fill:none;stroke:#000000;stroke-width:3;stroke-linecap:butt;stroke-linejoin:miter;stroke-opacity:1;stroke-miterlimit:4;stroke-dasharray:none\"/>\n",
       "    <path d=\"m 146.54867,178.40708 0,62.30088 95.57522,0 0,-30.07807\" id=\"path2991\" inkscape:connector-curvature=\"0\" sodipodi:nodetypes=\"cccc\" style=\"fill:none;stroke:#000000;stroke-width:3;stroke-linecap:butt;stroke-linejoin:miter;stroke-opacity:1;stroke-miterlimit:4;stroke-dasharray:none\" transform=\"translate(0,652.36218)\"/>\n",
       "    <path d=\"m 120.02515,864.37368 0,-73.62832 53.09735,0 0,72.97678\" id=\"path2993\" inkscape:connector-curvature=\"0\" sodipodi:nodetypes=\"cccc\" style=\"fill:none;stroke:#000000;stroke-width:3;stroke-linecap:butt;stroke-linejoin:miter;stroke-opacity:1;stroke-miterlimit:4;stroke-dasharray:none\"/>\n",
       "    <path d=\"m 146.72783,707.1687 0,82.6184\" id=\"path2995\" inkscape:connector-curvature=\"0\" sodipodi:nodetypes=\"cc\" style=\"fill:none;stroke:#000000;stroke-width:3;stroke-linecap:butt;stroke-linejoin:miter;stroke-opacity:1;stroke-miterlimit:4;stroke-dasharray:none\"/>\n",
       "    <path d=\"m 217.38072,856.8069 50.74471,-13.597\" id=\"path2999\" inkscape:connector-curvature=\"0\" style=\"fill:none;stroke:#000000;stroke-width:3;stroke-linecap:butt;stroke-linejoin:miter;stroke-opacity:1;stroke-miterlimit:4;stroke-dasharray:none\"/>\n",
       "    <path d=\"m 268.11464,843.20326 -50.74471,-13.597\" id=\"path2999-1\" inkscape:connector-curvature=\"0\" style=\"fill:none;stroke:#000000;stroke-width:3;stroke-linecap:butt;stroke-linejoin:miter;stroke-opacity:1;stroke-miterlimit:4;stroke-dasharray:none\"/>\n",
       "    <path d=\"m 217.55238,829.4259 50.74471,-13.597\" id=\"path2999-3\" inkscape:connector-curvature=\"0\" style=\"fill:none;stroke:#000000;stroke-width:3;stroke-linecap:butt;stroke-linejoin:miter;stroke-opacity:1;stroke-miterlimit:4;stroke-dasharray:none\"/>\n",
       "    <path d=\"m 268.2863,815.82226 -50.74471,-13.597\" id=\"path2999-1-3\" inkscape:connector-curvature=\"0\" style=\"fill:none;stroke:#000000;stroke-width:3;stroke-linecap:butt;stroke-linejoin:miter;stroke-opacity:1;stroke-miterlimit:4;stroke-dasharray:none\"/>\n",
       "    <path d=\"m 218.053,802.39313 50.74471,-13.597\" id=\"path2999-3-2\" inkscape:connector-curvature=\"0\" style=\"fill:none;stroke:#000000;stroke-width:3;stroke-linecap:butt;stroke-linejoin:miter;stroke-opacity:1;stroke-miterlimit:4;stroke-dasharray:none\"/>\n",
       "    <path d=\"m 268.78692,788.78949 -50.74471,-13.597\" id=\"path2999-1-3-5\" inkscape:connector-curvature=\"0\" style=\"fill:none;stroke:#000000;stroke-width:3;stroke-linecap:butt;stroke-linejoin:miter;stroke-opacity:1;stroke-miterlimit:4;stroke-dasharray:none\"/>\n",
       "    <path d=\"m 218.5536,775.11007 50.74471,-13.597\" id=\"path2999-3-8\" inkscape:connector-curvature=\"0\" style=\"fill:none;stroke:#000000;stroke-width:3;stroke-linecap:butt;stroke-linejoin:miter;stroke-opacity:1;stroke-miterlimit:4;stroke-dasharray:none\"/>\n",
       "    <path d=\"m 269.28752,761.50643 -50.74471,-13.597\" id=\"path2999-1-3-1\" inkscape:connector-curvature=\"0\" style=\"fill:none;stroke:#000000;stroke-width:3;stroke-linecap:butt;stroke-linejoin:miter;stroke-opacity:1;stroke-miterlimit:4;stroke-dasharray:none\"/>\n",
       "    <path d=\"m 244.79661,55.082073 0,33.290336\" id=\"path3070\" inkscape:connector-curvature=\"0\" sodipodi:nodetypes=\"cc\" style=\"fill:none;stroke:#000000;stroke-width:3;stroke-linecap:butt;stroke-linejoin:miter;stroke-opacity:1;stroke-miterlimit:4;stroke-dasharray:none\" transform=\"translate(0,652.36218)\"/>\n",
       "    <path d=\"m 124.90134,830.59348 42.55156,0\" id=\"path3072\" inkscape:connector-curvature=\"0\" sodipodi:nodetypes=\"cc\" style=\"fill:none;stroke:#000000;stroke-width:3;stroke-linecap:butt;stroke-linejoin:miter;stroke-opacity:1;stroke-miterlimit:4;stroke-dasharray:none\"/>\n",
       "    <path d=\"M 242.02277,863.10943 217.67214,856.5847\" id=\"path2999-1-7\" inkscape:connector-curvature=\"0\" sodipodi:nodetypes=\"cc\" style=\"fill:none;stroke:#000000;stroke-width:3;stroke-linecap:butt;stroke-linejoin:miter;stroke-opacity:1;stroke-miterlimit:4;stroke-dasharray:none\"/>\n",
       "    <path d=\"m 218.67335,747.53309 26.19766,-7.01964\" id=\"path2999-3-8-9\" inkscape:connector-curvature=\"0\" sodipodi:nodetypes=\"cc\" style=\"fill:none;stroke:#000000;stroke-width:3;stroke-linecap:butt;stroke-linejoin:miter;stroke-opacity:1;stroke-miterlimit:4;stroke-dasharray:none\"/>\n",
       "    <path d=\"m 94.159292,695.54802 -19.38348,11.19106\" id=\"path3897\" inkscape:connector-curvature=\"0\" inkscape:tile-cx=\"84.467552\" inkscape:tile-cy=\"48.78137\" inkscape:tile-h=\"11.19106\" inkscape:tile-w=\"19.38348\" inkscape:tile-x0=\"74.775812\" inkscape:tile-y0=\"43.18584\" style=\"fill:none;stroke:#000000;stroke-width:1px;stroke-linecap:butt;stroke-linejoin:miter;stroke-opacity:1\"/>\n",
       "    <use id=\"use3919\" inkscape:tiled-clone-of=\"#path3897\" x=\"0\" xlink:href=\"#path3897\" y=\"0\"/>\n",
       "    <use id=\"use3935\" inkscape:tile-cx=\"84.467552\" inkscape:tile-cy=\"48.78137\" inkscape:tile-h=\"11.19106\" inkscape:tile-w=\"19.38348\" inkscape:tile-x0=\"74.775812\" inkscape:tile-y0=\"43.18584\" inkscape:tiled-clone-of=\"#path3897\" x=\"0\" xlink:href=\"#path3897\" y=\"0\"/>\n",
       "    <use id=\"use4121\" inkscape:tiled-clone-of=\"#use3935\" x=\"0\" xlink:href=\"#use3935\" y=\"0\"/>\n",
       "    <use id=\"use4123\" inkscape:tiled-clone-of=\"#use3935\" transform=\"translate(19.38348,0)\" x=\"0\" xlink:href=\"#use3935\" y=\"0\"/>\n",
       "    <use id=\"use4125\" inkscape:tiled-clone-of=\"#use3935\" transform=\"translate(38.76696,0)\" x=\"0\" xlink:href=\"#use3935\" y=\"0\"/>\n",
       "    <use id=\"use4127\" inkscape:tiled-clone-of=\"#use3935\" transform=\"translate(58.15044,0)\" x=\"0\" xlink:href=\"#use3935\" y=\"0\"/>\n",
       "    <use id=\"use4129\" inkscape:tiled-clone-of=\"#use3935\" transform=\"translate(77.53392,0)\" x=\"0\" xlink:href=\"#use3935\" y=\"0\"/>\n",
       "    <use id=\"use4131\" inkscape:tiled-clone-of=\"#use3935\" transform=\"translate(96.9174,0)\" x=\"0\" xlink:href=\"#use3935\" y=\"0\"/>\n",
       "    <use id=\"use4133\" inkscape:tiled-clone-of=\"#use3935\" transform=\"translate(116.30088,0)\" x=\"0\" xlink:href=\"#use3935\" y=\"0\"/>\n",
       "    <use id=\"use4135\" inkscape:tiled-clone-of=\"#use3935\" transform=\"translate(135.68436,0)\" x=\"0\" xlink:href=\"#use3935\" y=\"0\"/>\n",
       "    <use id=\"use4137\" inkscape:tiled-clone-of=\"#use3935\" transform=\"translate(155.06784,0)\" x=\"0\" xlink:href=\"#use3935\" y=\"0\"/>\n",
       "    <use id=\"use4139\" inkscape:tiled-clone-of=\"#use3935\" transform=\"translate(174.45132,0)\" x=\"0\" xlink:href=\"#use3935\" y=\"0\"/>\n",
       "    <use id=\"use4141\" inkscape:tiled-clone-of=\"#use3935\" transform=\"translate(193.8348,0)\" x=\"0\" xlink:href=\"#use3935\" y=\"0\"/>\n",
       "    <use id=\"use4143\" inkscape:tiled-clone-of=\"#use3935\" transform=\"translate(213.21828,0)\" x=\"0\" xlink:href=\"#use3935\" y=\"0\"/>\n",
       "    <use id=\"use4145\" inkscape:tiled-clone-of=\"#use3935\" transform=\"translate(232.60176,0)\" x=\"0\" xlink:href=\"#use3935\" y=\"0\"/>\n",
       "    <g id=\"g4309\" ns0:preamble=\"\" ns0:text=\"$m$\" transform=\"matrix(2,0,0,2,-208.26353,709.27877)\">\n",
       "      <defs id=\"defs4311\">\n",
       "        <g id=\"g4313\">\n",
       "          <symbol id=\"textext-08e211e0-0\" overflow=\"visible\" style=\"overflow:visible\">\n",
       "            <path d=\"\" id=\"path4316\" inkscape:connector-curvature=\"0\" style=\"stroke:none\"/>\n",
       "          </symbol>\n",
       "          <symbol id=\"textext-08e211e0-1\" overflow=\"visible\" style=\"overflow:visible\">\n",
       "            <path d=\"m 0.875,-0.59375 c -0.03125,0.15625 -0.09375,0.390625 -0.09375,0.4375 0,0.171875 0.140625,0.265625 0.296875,0.265625 0.125,0 0.296875,-0.078125 0.375,-0.28125 0,-0.015625 0.125,-0.484375 0.1875,-0.734375 l 0.21875,-0.890625 C 1.90625,-2.03125 1.96875,-2.25 2.03125,-2.46875 c 0.03125,-0.171875 0.109375,-0.46875 0.125,-0.5 0.140625,-0.3125 0.671875,-1.21875 1.625,-1.21875 0.453125,0 0.53125,0.375 0.53125,0.703125 0,0.25 -0.0625,0.53125 -0.140625,0.828125 L 3.890625,-1.5 3.6875,-0.75 c -0.03125,0.203125 -0.125,0.546875 -0.125,0.59375 0,0.171875 0.140625,0.265625 0.28125,0.265625 0.3125,0 0.375,-0.25 0.453125,-0.5625 0.140625,-0.5625 0.515625,-2.015625 0.59375,-2.40625 0.03125,-0.125 0.5625,-1.328125 1.65625,-1.328125 0.421875,0 0.53125,0.34375 0.53125,0.703125 0,0.5625 -0.421875,1.703125 -0.625,2.234375 -0.078125,0.234375 -0.125,0.34375 -0.125,0.546875 0,0.46875 0.34375,0.8125 0.8125,0.8125 0.9375,0 1.3125,-1.453125 1.3125,-1.53125 0,-0.109375 -0.09375,-0.109375 -0.125,-0.109375 -0.09375,0 -0.09375,0.03125 -0.140625,0.1875 -0.15625,0.53125 -0.46875,1.234375 -1.015625,1.234375 -0.171875,0 -0.25,-0.09375 -0.25,-0.328125 0,-0.25 0.09375,-0.484375 0.1875,-0.703125 0.1875,-0.53125 0.609375,-1.625 0.609375,-2.203125 0,-0.640625 -0.40625,-1.0625 -1.15625,-1.0625 -0.734375,0 -1.25,0.4375 -1.625,0.96875 0,-0.125 -0.03125,-0.46875 -0.3125,-0.703125 -0.25,-0.21875 -0.5625,-0.265625 -0.8125,-0.265625 -0.90625,0 -1.390625,0.640625 -1.5625,0.875 -0.046875,-0.578125 -0.46875,-0.875 -0.921875,-0.875 -0.453125,0 -0.640625,0.390625 -0.734375,0.5625 -0.171875,0.359375 -0.296875,0.9375 -0.296875,0.96875 0,0.109375 0.09375,0.109375 0.109375,0.109375 0.109375,0 0.109375,-0.015625 0.171875,-0.234375 0.171875,-0.703125 0.375,-1.1875 0.734375,-1.1875 0.15625,0 0.296875,0.078125 0.296875,0.453125 0,0.21875 -0.03125,0.328125 -0.15625,0.84375 z\" id=\"path4319\" inkscape:connector-curvature=\"0\" style=\"stroke:none\"/>\n",
       "          </symbol>\n",
       "        </g>\n",
       "      </defs>\n",
       "      <g id=\"textext-08e211e0-2\">\n",
       "        <g id=\"g4322\" style=\"fill:#000000;fill-opacity:1\">\n",
       "          <use height=\"400\" id=\"use4324\" width=\"400\" x=\"223.43201\" xlink:href=\"#textext-08e211e0-1\" y=\"134.765\"/>\n",
       "        </g>\n",
       "      </g>\n",
       "    </g>\n",
       "    <g id=\"g4422\" ns0:preamble=\"\" ns0:text=\"$c$\" transform=\"matrix(2,0,0,2,-346.05561,543.41648)\">\n",
       "      <defs id=\"defs4424\">\n",
       "        <g id=\"g4426\">\n",
       "          <symbol id=\"textext-2f24d870-0\" overflow=\"visible\" style=\"overflow:visible\">\n",
       "            <path d=\"\" id=\"path4429\" inkscape:connector-curvature=\"0\" style=\"stroke:none\"/>\n",
       "          </symbol>\n",
       "          <symbol id=\"textext-2f24d870-1\" overflow=\"visible\" style=\"overflow:visible\">\n",
       "            <path d=\"m 3.953125,-3.78125 c -0.171875,0 -0.296875,0 -0.4375,0.125 -0.171875,0.15625 -0.1875,0.328125 -0.1875,0.390625 0,0.25 0.1875,0.359375 0.375,0.359375 0.28125,0 0.546875,-0.25 0.546875,-0.640625 0,-0.484375 -0.46875,-0.859375 -1.171875,-0.859375 -1.34375,0 -2.671875,1.421875 -2.671875,2.828125 0,0.90625 0.578125,1.6875 1.625,1.6875 1.421875,0 2.25,-1.0625 2.25,-1.171875 0,-0.0625 -0.046875,-0.140625 -0.109375,-0.140625 -0.0625,0 -0.078125,0.03125 -0.140625,0.109375 -0.78125,0.984375 -1.875,0.984375 -1.984375,0.984375 -0.625,0 -0.90625,-0.484375 -0.90625,-1.09375 0,-0.40625 0.203125,-1.375 0.546875,-1.984375 0.3125,-0.578125 0.859375,-1 1.40625,-1 0.328125,0 0.71875,0.125 0.859375,0.40625 z\" id=\"path4432\" inkscape:connector-curvature=\"0\" style=\"stroke:none\"/>\n",
       "          </symbol>\n",
       "        </g>\n",
       "      </defs>\n",
       "      <g id=\"textext-2f24d870-2\">\n",
       "        <g id=\"g4435\" style=\"fill:#000000;fill-opacity:1\">\n",
       "          <use height=\"400\" id=\"use4437\" width=\"400\" x=\"223.43201\" xlink:href=\"#textext-2f24d870-1\" y=\"134.765\"/>\n",
       "        </g>\n",
       "      </g>\n",
       "    </g>\n",
       "    <g id=\"g4555\" ns0:preamble=\"\" ns0:text=\"$k$\" transform=\"matrix(2,0,0,2,-167.19648,535.69871)\">\n",
       "      <defs id=\"defs4557\">\n",
       "        <g id=\"g4559\">\n",
       "          <symbol id=\"textext-98de1750-0\" overflow=\"visible\" style=\"overflow:visible\">\n",
       "            <path d=\"\" id=\"path4562\" inkscape:connector-curvature=\"0\" style=\"stroke:none\"/>\n",
       "          </symbol>\n",
       "          <symbol id=\"textext-98de1750-1\" overflow=\"visible\" style=\"overflow:visible\">\n",
       "            <path d=\"m 2.859375,-6.8125 c 0,0 0,-0.109375 -0.125,-0.109375 -0.234375,0 -0.953125,0.078125 -1.21875,0.109375 -0.078125,0 -0.1875,0.015625 -0.1875,0.1875 0,0.125 0.09375,0.125 0.234375,0.125 0.484375,0 0.5,0.0625 0.5,0.171875 L 2.03125,-6.125 0.59375,-0.390625 c -0.046875,0.140625 -0.046875,0.15625 -0.046875,0.21875 0,0.234375 0.203125,0.28125 0.296875,0.28125 0.125,0 0.265625,-0.09375 0.328125,-0.203125 0.046875,-0.09375 0.5,-1.9375 0.5625,-2.1875 0.34375,0.03125 1.15625,0.1875 1.15625,0.84375 0,0.078125 0,0.109375 -0.03125,0.21875 -0.015625,0.109375 -0.03125,0.234375 -0.03125,0.34375 0,0.578125 0.390625,0.984375 0.90625,0.984375 0.296875,0 0.578125,-0.15625 0.796875,-0.53125 0.25,-0.4375 0.359375,-0.984375 0.359375,-1 0,-0.109375 -0.09375,-0.109375 -0.125,-0.109375 -0.09375,0 -0.109375,0.046875 -0.140625,0.1875 -0.203125,0.71875 -0.421875,1.234375 -0.859375,1.234375 -0.203125,0 -0.328125,-0.109375 -0.328125,-0.46875 0,-0.171875 0.046875,-0.40625 0.078125,-0.5625 C 3.5625,-1.3125 3.5625,-1.34375 3.5625,-1.453125 3.5625,-2.09375 2.9375,-2.375 2.078125,-2.5 2.390625,-2.671875 2.71875,-2.984375 2.9375,-3.234375 3.421875,-3.765625 3.875,-4.1875 4.359375,-4.1875 c 0.0625,0 0.078125,0 0.09375,0.015625 0.125,0.015625 0.125,0.015625 0.21875,0.078125 0.015625,0 0.015625,0.015625 0.03125,0.03125 -0.46875,0.03125 -0.5625,0.421875 -0.5625,0.546875 0,0.15625 0.109375,0.34375 0.375,0.34375 0.265625,0 0.546875,-0.21875 0.546875,-0.609375 0,-0.296875 -0.234375,-0.625 -0.671875,-0.625 -0.28125,0 -0.734375,0.078125 -1.453125,0.875 -0.34375,0.375 -0.734375,0.78125 -1.109375,0.921875 z\" id=\"path4565\" inkscape:connector-curvature=\"0\" style=\"stroke:none\"/>\n",
       "          </symbol>\n",
       "        </g>\n",
       "      </defs>\n",
       "      <g id=\"textext-98de1750-2\">\n",
       "        <g id=\"g4568\" style=\"fill:#000000;fill-opacity:1\">\n",
       "          <use height=\"400\" id=\"use4570\" width=\"400\" x=\"223.43201\" xlink:href=\"#textext-98de1750-1\" y=\"134.765\"/>\n",
       "        </g>\n",
       "      </g>\n",
       "    </g>\n",
       "    <g id=\"g4708\" ns0:preamble=\"\" ns0:text=\"$g$\" transform=\"matrix(2,0,0,2,-86.228927,567.28988)\">\n",
       "      <defs id=\"defs4710\">\n",
       "        <g id=\"g4712\">\n",
       "          <symbol id=\"textext-ee8938ff-0\" overflow=\"visible\" style=\"overflow:visible\">\n",
       "            <path d=\"\" id=\"path4715\" inkscape:connector-curvature=\"0\" style=\"stroke:none\"/>\n",
       "          </symbol>\n",
       "          <symbol id=\"textext-ee8938ff-1\" overflow=\"visible\" style=\"overflow:visible\">\n",
       "            <path d=\"M 4.6875,-3.765625 C 4.703125,-3.8125 4.71875,-3.875 4.71875,-3.9375 c 0,-0.171875 -0.109375,-0.265625 -0.28125,-0.265625 -0.09375,0 -0.375,0.0625 -0.40625,0.421875 -0.1875,-0.359375 -0.53125,-0.625 -0.9375,-0.625 -1.125,0 -2.359375,1.390625 -2.359375,2.828125 0,0.984375 0.59375,1.578125 1.3125,1.578125 0.59375,0 1.0625,-0.46875 1.15625,-0.578125 L 3.21875,-0.5625 C 3.015625,0.3125 2.890625,0.734375 2.890625,0.75 2.84375,0.84375 2.515625,1.828125 1.453125,1.828125 1.265625,1.828125 0.9375,1.8125 0.65625,1.71875 0.953125,1.640625 1.0625,1.375 1.0625,1.203125 c 0,-0.15625 -0.109375,-0.34375 -0.375,-0.34375 -0.21875,0 -0.53125,0.171875 -0.53125,0.578125 0,0.40625 0.359375,0.609375 1.3125,0.609375 1.25,0 1.96875,-0.78125 2.125,-1.375 z M 3.40625,-1.28125 C 3.34375,-1.015625 3.109375,-0.765625 2.890625,-0.578125 2.6875,-0.40625 2.375,-0.21875 2.078125,-0.21875 c -0.5,0 -0.640625,-0.515625 -0.640625,-0.921875 0,-0.46875 0.28125,-1.65625 0.5625,-2.15625 C 2.265625,-3.78125 2.6875,-4.1875 3.109375,-4.1875 c 0.65625,0 0.796875,0.8125 0.796875,0.859375 0,0.046875 -0.015625,0.109375 -0.03125,0.140625 z\" id=\"path4718\" inkscape:connector-curvature=\"0\" style=\"stroke:none\"/>\n",
       "          </symbol>\n",
       "        </g>\n",
       "      </defs>\n",
       "      <g id=\"textext-ee8938ff-2\">\n",
       "        <g id=\"g4721\" style=\"fill:#000000;fill-opacity:1\">\n",
       "          <use height=\"400\" id=\"use4723\" width=\"400\" x=\"223.43201\" xlink:href=\"#textext-ee8938ff-1\" y=\"134.765\"/>\n",
       "        </g>\n",
       "      </g>\n",
       "    </g>\n",
       "    <path d=\"m 83.280852,56.601681 0,243.353139\" id=\"path4802\" inkscape:connector-curvature=\"0\" sodipodi:nodetypes=\"cc\" style=\"fill:none;stroke:#000000;stroke-width:1px;stroke-linecap:butt;stroke-linejoin:miter;stroke-opacity:1;marker-end:url(#Arrow1Lend)\" transform=\"translate(0,652.36218)\"/>\n",
       "    <path d=\"m 154.66444,301.57717 -93.555763,0\" id=\"path4804\" inkscape:connector-curvature=\"0\" sodipodi:nodetypes=\"cc\" style=\"fill:none;stroke:#000000;stroke-width:1px;stroke-linecap:butt;stroke-linejoin:miter;stroke-opacity:1\" transform=\"translate(0,652.36218)\"/>\n",
       "    <path d=\"m 344.47989,178.27825 0,79.49536\" id=\"path4806\" inkscape:connector-curvature=\"0\" style=\"fill:none;stroke:#000000;stroke-width:4;stroke-linecap:butt;stroke-linejoin:miter;stroke-opacity:1;marker-end:url(#Arrow1Mend);stroke-miterlimit:4;stroke-dasharray:none\" transform=\"translate(0,652.36218)\"/>\n",
       "    <g id=\"g5706\" ns0:preamble=\"\" ns0:text=\"$x$, $v$\" transform=\"matrix(2,0,0,2,-403.90337,570.00071)\">\n",
       "      <defs id=\"defs5708\">\n",
       "        <g id=\"g5710\">\n",
       "          <symbol id=\"textext-5464613c-0\" overflow=\"visible\" style=\"overflow:visible\">\n",
       "            <path d=\"\" id=\"path5713\" inkscape:connector-curvature=\"0\" style=\"stroke:none\"/>\n",
       "          </symbol>\n",
       "          <symbol id=\"textext-5464613c-1\" overflow=\"visible\" style=\"overflow:visible\">\n",
       "            <path d=\"M 3.328125,-3.015625 C 3.390625,-3.265625 3.625,-4.1875 4.3125,-4.1875 c 0.046875,0 0.296875,0 0.5,0.125 C 4.53125,-4 4.34375,-3.765625 4.34375,-3.515625 c 0,0.15625 0.109375,0.34375 0.375,0.34375 0.21875,0 0.53125,-0.171875 0.53125,-0.578125 0,-0.515625 -0.578125,-0.65625 -0.921875,-0.65625 -0.578125,0 -0.921875,0.53125 -1.046875,0.75 -0.25,-0.65625 -0.78125,-0.75 -1.078125,-0.75 -1.03125,0 -1.609375,1.28125 -1.609375,1.53125 0,0.109375 0.109375,0.109375 0.125,0.109375 0.078125,0 0.109375,-0.03125 0.125,-0.109375 0.34375,-1.0625 1,-1.3125 1.34375,-1.3125 0.1875,0 0.53125,0.09375 0.53125,0.671875 0,0.3125 -0.171875,0.96875 -0.53125,2.375 -0.15625,0.609375 -0.515625,1.03125 -0.953125,1.03125 -0.0625,0 -0.28125,0 -0.5,-0.125 0.25,-0.0625 0.46875,-0.265625 0.46875,-0.546875 0,-0.265625 -0.21875,-0.34375 -0.359375,-0.34375 -0.3125,0 -0.546875,0.25 -0.546875,0.578125 0,0.453125 0.484375,0.65625 0.921875,0.65625 0.671875,0 1.03125,-0.703125 1.046875,-0.75 0.125,0.359375 0.484375,0.75 1.078125,0.75 1.03125,0 1.59375,-1.28125 1.59375,-1.53125 0,-0.109375 -0.078125,-0.109375 -0.109375,-0.109375 -0.09375,0 -0.109375,0.046875 -0.140625,0.109375 -0.328125,1.078125 -1,1.3125 -1.3125,1.3125 -0.390625,0 -0.546875,-0.3125 -0.546875,-0.65625 0,-0.21875 0.046875,-0.4375 0.15625,-0.875 z\" id=\"path5716\" inkscape:connector-curvature=\"0\" style=\"stroke:none\"/>\n",
       "          </symbol>\n",
       "          <symbol id=\"textext-5464613c-2\" overflow=\"visible\" style=\"overflow:visible\">\n",
       "            <path d=\"m 4.671875,-3.703125 c 0,-0.546875 -0.265625,-0.703125 -0.4375,-0.703125 -0.25,0 -0.5,0.265625 -0.5,0.484375 0,0.125 0.046875,0.1875 0.15625,0.296875 0.21875,0.203125 0.34375,0.453125 0.34375,0.8125 0,0.421875 -0.609375,2.703125 -1.765625,2.703125 -0.515625,0 -0.75,-0.34375 -0.75,-0.875 0,-0.546875 0.28125,-1.28125 0.578125,-2.109375 0.078125,-0.171875 0.125,-0.3125 0.125,-0.5 0,-0.4375 -0.3125,-0.8125 -0.8125,-0.8125 -0.9375,0 -1.3125,1.453125 -1.3125,1.53125 0,0.109375 0.09375,0.109375 0.109375,0.109375 0.109375,0 0.109375,-0.03125 0.15625,-0.1875 0.296875,-1 0.71875,-1.234375 1.015625,-1.234375 0.078125,0 0.25,0 0.25,0.3125 0,0.25 -0.109375,0.53125 -0.171875,0.703125 -0.4375,1.15625 -0.5625,1.609375 -0.5625,2.046875 0,1.078125 0.875,1.234375 1.328125,1.234375 1.671875,0 2.25,-3.296875 2.25,-3.8125 z\" id=\"path5719\" inkscape:connector-curvature=\"0\" style=\"stroke:none\"/>\n",
       "          </symbol>\n",
       "          <symbol id=\"textext-5464613c-3\" overflow=\"visible\" style=\"overflow:visible\">\n",
       "            <path d=\"\" id=\"path5722\" inkscape:connector-curvature=\"0\" style=\"stroke:none\"/>\n",
       "          </symbol>\n",
       "          <symbol id=\"textext-5464613c-4\" overflow=\"visible\" style=\"overflow:visible\">\n",
       "            <path d=\"m 2.03125,-0.015625 c 0,-0.625 -0.25,-1.046875 -0.640625,-1.046875 -0.359375,0 -0.53125,0.28125 -0.53125,0.53125 0,0.265625 0.171875,0.53125 0.53125,0.53125 0.15625,0 0.28125,-0.0625 0.375,-0.140625 L 1.78125,-0.15625 c 0.015625,0 0.015625,0 0.015625,0.140625 0,0.640625 -0.265625,1.25 -0.703125,1.71875 -0.0625,0.0625 -0.078125,0.078125 -0.078125,0.109375 0,0.078125 0.046875,0.109375 0.09375,0.109375 0.125,0 0.921875,-0.78125 0.921875,-1.9375 z\" id=\"path5725\" inkscape:connector-curvature=\"0\" style=\"stroke:none\"/>\n",
       "          </symbol>\n",
       "        </g>\n",
       "      </defs>\n",
       "      <g id=\"textext-5464613c-5\">\n",
       "        <g id=\"g5728\" style=\"fill:#000000;fill-opacity:1\">\n",
       "          <use height=\"400\" id=\"use5730\" width=\"400\" x=\"223.43201\" xlink:href=\"#textext-5464613c-1\" y=\"134.765\"/>\n",
       "        </g>\n",
       "        <g id=\"g5732\" style=\"fill:#000000;fill-opacity:1\">\n",
       "          <use height=\"400\" id=\"use5734\" width=\"400\" x=\"229.12601\" xlink:href=\"#textext-5464613c-4\" y=\"134.765\"/>\n",
       "        </g>\n",
       "        <g id=\"g5736\" style=\"fill:#000000;fill-opacity:1\">\n",
       "          <use height=\"400\" id=\"use5738\" width=\"400\" x=\"235.214\" xlink:href=\"#textext-5464613c-2\" y=\"134.765\"/>\n",
       "        </g>\n",
       "      </g>\n",
       "    </g>\n",
       "  </g>\n",
       "</svg>"
      ],
      "text/plain": [
       "<IPython.core.display.SVG object>"
      ]
     },
     "execution_count": 1,
     "metadata": {},
     "output_type": "execute_result"
    }
   ],
   "source": [
    "from IPython.display import SVG\n",
    "SVG(filename='mass_spring_damper.svg')"
   ]
  },
  {
   "cell_type": "markdown",
   "metadata": {},
   "source": [
    "Start by loading in the core functionality of both SymPy and Mechanics."
   ]
  },
  {
   "cell_type": "code",
   "execution_count": 2,
   "metadata": {
    "collapsed": false
   },
   "outputs": [],
   "source": [
    "import sympy as sym\n",
    "import sympy.physics.mechanics as me"
   ]
  },
  {
   "cell_type": "markdown",
   "metadata": {},
   "source": [
    "We can make use of the pretty printing of our results by loading SymPy's printing extension, in particular we will use the vector printing which is nice for mechanics objects."
   ]
  },
  {
   "cell_type": "code",
   "execution_count": 3,
   "metadata": {
    "collapsed": false
   },
   "outputs": [],
   "source": [
    "from sympy.physics.vector import init_vprinting\n",
    "init_vprinting()"
   ]
  },
  {
   "cell_type": "markdown",
   "metadata": {},
   "source": [
    "We'll start by defining the variables we will need for this problem:\n",
    "- $x(t)$: distance of the particle from the ceiling\n",
    "- $v(t)$: speed of the particle\n",
    "- $m$: mass of the particle\n",
    "- $c$: damping coefficient of the damper\n",
    "- $k$: stiffness of the spring\n",
    "- $g$: acceleration due to gravity\n",
    "- $t$: time"
   ]
  },
  {
   "cell_type": "code",
   "execution_count": 4,
   "metadata": {
    "collapsed": true
   },
   "outputs": [],
   "source": [
    "x, v = me.dynamicsymbols('x v')"
   ]
  },
  {
   "cell_type": "code",
   "execution_count": 5,
   "metadata": {
    "collapsed": true
   },
   "outputs": [],
   "source": [
    "m, c, k, g, t = sym.symbols('m c k g t')"
   ]
  },
  {
   "cell_type": "markdown",
   "metadata": {},
   "source": [
    "Now, we define a Newtonian reference frame that represents the ceiling which the particle is attached to, $C$."
   ]
  },
  {
   "cell_type": "code",
   "execution_count": 6,
   "metadata": {
    "collapsed": true
   },
   "outputs": [],
   "source": [
    "ceiling = me.ReferenceFrame('C')"
   ]
  },
  {
   "cell_type": "markdown",
   "metadata": {},
   "source": [
    "We will need two points, one to represent the original position of the particle which stays fixed in the ceiling frame, $O$, and the second one, $P$ which is aligned with the particle as it moves."
   ]
  },
  {
   "cell_type": "code",
   "execution_count": 7,
   "metadata": {
    "collapsed": true
   },
   "outputs": [],
   "source": [
    "O = me.Point('O')\n",
    "P = me.Point('P')"
   ]
  },
  {
   "cell_type": "markdown",
   "metadata": {},
   "source": [
    "The velocity of point $O$ in the ceiling is zero."
   ]
  },
  {
   "cell_type": "code",
   "execution_count": 8,
   "metadata": {
    "collapsed": false
   },
   "outputs": [],
   "source": [
    "O.set_vel(ceiling, 0)"
   ]
  },
  {
   "cell_type": "markdown",
   "metadata": {},
   "source": [
    "Point $P$ can move downward in the $y$ direction and its velocity is specified as $v$ in the downward direction."
   ]
  },
  {
   "cell_type": "code",
   "execution_count": 9,
   "metadata": {
    "collapsed": false
   },
   "outputs": [
    {
     "data": {
      "image/png": "[encoded data removed]",
      "text/latex": [
       "$$v\\mathbf{\\hat{c}_x}$$"
      ],
      "text/plain": [
       "v c_x"
      ]
     },
     "execution_count": 9,
     "metadata": {},
     "output_type": "execute_result"
    }
   ],
   "source": [
    "P.set_pos(O, x * ceiling.x)\n",
    "P.set_vel(ceiling, v * ceiling.x)\n",
    "P.vel(ceiling)"
   ]
  },
  {
   "cell_type": "markdown",
   "metadata": {},
   "source": [
    "There are three forces acting on the particle. Those due to the acceleration of gravity, the damper, and the spring."
   ]
  },
  {
   "cell_type": "code",
   "execution_count": 10,
   "metadata": {
    "collapsed": false
   },
   "outputs": [
    {
     "data": {
      "image/png": "[encoded data removed]",
      "text/latex": [
       "$$(- c v + g m - k x)\\mathbf{\\hat{c}_x}$$"
      ],
      "text/plain": [
       "(-c⋅v + g⋅m - k⋅x) c_x"
      ]
     },
     "execution_count": 10,
     "metadata": {},
     "output_type": "execute_result"
    }
   ],
   "source": [
    "damping = -c * P.vel(ceiling)\n",
    "stiffness = -k * P.pos_from(O)\n",
    "gravity = m * g * ceiling.x\n",
    "forces = damping + stiffness + gravity\n",
    "forces"
   ]
  },
  {
   "cell_type": "markdown",
   "metadata": {},
   "source": [
    "Now we can use Newton's second law, $0=F-ma$, to form the equation of motion of the system."
   ]
  },
  {
   "cell_type": "code",
   "execution_count": 11,
   "metadata": {
    "collapsed": false
   },
   "outputs": [
    {
     "data": {
      "image/png": "[encoded data removed]",
      "text/latex": [
       "$$- c v + g m - k x - m \\dot{v}$$"
      ],
      "text/plain": [
       "-c⋅v + g⋅m - k⋅x - m⋅v̇"
      ]
     },
     "execution_count": 11,
     "metadata": {},
     "output_type": "execute_result"
    }
   ],
   "source": [
    "zero = me.dot(forces - m * P.acc(ceiling), ceiling.x)\n",
    "zero"
   ]
  },
  {
   "cell_type": "markdown",
   "metadata": {},
   "source": [
    "We can then form the first order equations of motion by solving for $\\frac{dv}{dt}$ and introducing the kinematical differential equation, $v=\\frac{dx}{dt}$."
   ]
  },
  {
   "cell_type": "code",
   "execution_count": 12,
   "metadata": {
    "collapsed": false
   },
   "outputs": [
    {
     "data": {
      "image/png": "[encoded data removed]",
      "text/latex": [
       "$$\\left ( \\frac{1}{m} \\left(- c v + g m - k x\\right), \\quad v\\right )$$"
      ],
      "text/plain": [
       "⎛-c⋅v + g⋅m - k⋅x   ⎞\n",
       "⎜────────────────, v⎟\n",
       "⎝       m           ⎠"
      ]
     },
     "execution_count": 12,
     "metadata": {},
     "output_type": "execute_result"
    }
   ],
   "source": [
    "dv_by_dt = sym.solve(zero, v.diff(t))[0]\n",
    "dx_by_dt = v\n",
    "dv_by_dt, dx_by_dt"
   ]
  },
  {
   "cell_type": "markdown",
   "metadata": {},
   "source": [
    "Forming the equations of motion can also be done with the automated methods available in the Mechanics package: `LagrangesMethod` and `KanesMethod`. Here we will make use of Kane's method to find the same equations of motion that we found manually above. First, define a particle that represents the mass attached to the damper and spring."
   ]
  },
  {
   "cell_type": "code",
   "execution_count": 13,
   "metadata": {
    "collapsed": false
   },
   "outputs": [],
   "source": [
    "mass = me.Particle('mass', P, m)"
   ]
  },
  {
   "cell_type": "markdown",
   "metadata": {},
   "source": [
    "Now we can construct a `KanesMethod` object by passing in the generalized coordinate, $x$, the generalized speed, $v$, and the kinematical differential equation which relates the two, $0=v-\\frac{dx}{dt}$."
   ]
  },
  {
   "cell_type": "code",
   "execution_count": 14,
   "metadata": {
    "collapsed": false
   },
   "outputs": [],
   "source": [
    "kane = me.KanesMethod(ceiling, q_ind=[x], u_ind=[v], kd_eqs=[v - x.diff(t)])"
   ]
  },
  {
   "cell_type": "markdown",
   "metadata": {},
   "source": [
    "Now Kane's equations can be computed, and we can obtain $F_r$ and $F_r^*$."
   ]
  },
  {
   "cell_type": "code",
   "execution_count": 15,
   "metadata": {
    "collapsed": false
   },
   "outputs": [
    {
     "data": {
      "image/png": "[encoded data removed]",
      "text/latex": [
       "$$\\left ( \\left[\\begin{matrix}- c v + g m - k x\\end{matrix}\\right], \\quad \\left[\\begin{matrix}- m \\dot{v}\\end{matrix}\\right]\\right )$$"
      ],
      "text/plain": [
       "([-c⋅v + g⋅m - k⋅x], [-m⋅v̇])"
      ]
     },
     "execution_count": 15,
     "metadata": {},
     "output_type": "execute_result"
    }
   ],
   "source": [
    "fr, frstar = kane.kanes_equations([(P, forces)], [mass])\n",
    "fr, frstar"
   ]
  },
  {
   "cell_type": "markdown",
   "metadata": {},
   "source": [
    "The equations are also available in the form $M\\frac{d}{dt}[q,u]^T=f(q, u)$ and we can extract the mass matrix, $M$, and the forcing functions, $f$."
   ]
  },
  {
   "cell_type": "code",
   "execution_count": 16,
   "metadata": {
    "collapsed": false
   },
   "outputs": [
    {
     "data": {
      "image/png": "[encoded data removed]",
      "text/latex": [
       "$$\\left ( \\left[\\begin{matrix}1 & 0\\\\0 & m\\end{matrix}\\right], \\quad \\left[\\begin{matrix}v\\\\- c v + g m - k x\\end{matrix}\\right]\\right )$$"
      ],
      "text/plain": [
       "⎛⎡1  0⎤, ⎡       v        ⎤⎞\n",
       "⎜⎢    ⎥  ⎢                ⎥⎟\n",
       "⎝⎣0  m⎦  ⎣-c⋅v + g⋅m - k⋅x⎦⎠"
      ]
     },
     "execution_count": 16,
     "metadata": {},
     "output_type": "execute_result"
    }
   ],
   "source": [
    "M = kane.mass_matrix_full\n",
    "f = kane.forcing_full\n",
    "M, f"
   ]
  },
  {
   "cell_type": "markdown",
   "metadata": {},
   "source": [
    "Finally, we can form the first order differential equations of motion $\\frac{d}{dt}[q,u]^T=M^{-1}f(\\dot{u}, u, q)$, which is the same as previously found."
   ]
  },
  {
   "cell_type": "code",
   "execution_count": 17,
   "metadata": {
    "collapsed": false
   },
   "outputs": [
    {
     "data": {
      "image/png": "[encoded data removed]",
      "text/latex": [
       "$$\\left[\\begin{matrix}v\\\\\\frac{1}{m} \\left(- c v + g m - k x\\right)\\end{matrix}\\right]$$"
      ],
      "text/plain": [
       "⎡       v        ⎤\n",
       "⎢                ⎥\n",
       "⎢-c⋅v + g⋅m - k⋅x⎥\n",
       "⎢────────────────⎥\n",
       "⎣       m        ⎦"
      ]
     },
     "execution_count": 17,
     "metadata": {},
     "output_type": "execute_result"
    }
   ],
   "source": [
    "M.inv() * f"
   ]
  },
  {
   "cell_type": "markdown",
   "metadata": {},
   "source": [
    "#Simulating the system#"
   ]
  },
  {
   "cell_type": "markdown",
   "metadata": {},
   "source": [
    "Now that we have defined the mass-spring-damper system, we are going to simulate it.\n",
    "\n",
    "PyDy's `System` is a wrapper that holds the Kanes object to integrate the equations of motion using numerical values of constants."
   ]
  },
  {
   "cell_type": "code",
   "execution_count": 18,
   "metadata": {
    "collapsed": false
   },
   "outputs": [],
   "source": [
    "from pydy.system import System"
   ]
  },
  {
   "cell_type": "code",
   "execution_count": 19,
   "metadata": {
    "collapsed": false
   },
   "outputs": [],
   "source": [
    "sys = System(kane)"
   ]
  },
  {
   "cell_type": "markdown",
   "metadata": {},
   "source": [
    "Now, we specify the numerical values of the constants and the initial values of states in the form of a dict."
   ]
  },
  {
   "cell_type": "code",
   "execution_count": 20,
   "metadata": {
    "collapsed": false
   },
   "outputs": [],
   "source": [
    "sys.constants = {m:10.0, g:9.8, c:5.0, k:10.0}\n",
    "sys.initial_conditions = {x:0.0, v:0.0}"
   ]
  },
  {
   "cell_type": "markdown",
   "metadata": {},
   "source": [
    "We must generate a time vector over which the integration will be carried out. NumPy's `linspace` is often useful for this."
   ]
  },
  {
   "cell_type": "code",
   "execution_count": 21,
   "metadata": {
    "collapsed": false
   },
   "outputs": [],
   "source": [
    "from numpy import linspace\n",
    "sys.times = linspace(0.0, 10.0, 100)"
   ]
  },
  {
   "cell_type": "markdown",
   "metadata": {},
   "source": [
    "The trajectory of the states over time can be found by calling the `.integrate()` method."
   ]
  },
  {
   "cell_type": "code",
   "execution_count": 22,
   "metadata": {
    "collapsed": false
   },
   "outputs": [],
   "source": [
    "x_trajectory = sys.integrate()"
   ]
  },
  {
   "cell_type": "markdown",
   "metadata": {},
   "source": [
    "#Visualizing the System"
   ]
  },
  {
   "cell_type": "markdown",
   "metadata": {},
   "source": [
    "PyDy has a native module `pydy.viz` which is used to visualize a System in an interactive 3D GUI."
   ]
  },
  {
   "cell_type": "code",
   "execution_count": 23,
   "metadata": {
    "collapsed": false
   },
   "outputs": [
    {
     "name": "stderr",
     "output_type": "stream",
     "text": [
      ":0: FutureWarning: IPython widgets are experimental and may change in the future.\n"
     ]
    }
   ],
   "source": [
    "from pydy.viz import *"
   ]
  },
  {
   "cell_type": "markdown",
   "metadata": {},
   "source": [
    "For visualizing the system, we need to create shapes for the objects we wish to visualize, and map each of them \n",
    "to a `VisualizationFrame`, which holds the position and orientation of the object. First create a sphere to represent the bob and attach it to the point $P$ and the ceiling reference frame (the sphere does not rotate with respect to the ceiling)."
   ]
  },
  {
   "cell_type": "code",
   "execution_count": 24,
   "metadata": {
    "collapsed": false
   },
   "outputs": [],
   "source": [
    "bob = Sphere(2.0, color=\"red\", material=\"metal\")\n",
    "bob_vframe = VisualizationFrame(ceiling, P, bob)"
   ]
  },
  {
   "cell_type": "markdown",
   "metadata": {},
   "source": [
    "Now create a circular disc that represents the ceiling and fix it to the ceiling reference frame. The circle's default axis is aligned with its local $y$ axis, so we need to attach it to a rotated ceiling reference frame if we want the circle's axis to align with the $\\hat{c}_x$ unit vector."
   ]
  },
  {
   "cell_type": "code",
   "execution_count": 25,
   "metadata": {
    "collapsed": false
   },
   "outputs": [],
   "source": [
    "ceiling_circle = Circle(radius=10, color=\"white\", material=\"metal\")\n",
    "from numpy import pi\n",
    "rotated = ceiling.orientnew(\"C_R\", 'Axis', [pi / 2, ceiling.z])\n",
    "ceiling_vframe = VisualizationFrame(rotated, O, ceiling_circle)"
   ]
  },
  {
   "cell_type": "markdown",
   "metadata": {},
   "source": [
    "Now we initialize a Scene. A Scene contains all the information required to visualize a `System` onto a canvas.\n",
    "It takes a ReferenceFrame and Point as arguments."
   ]
  },
  {
   "cell_type": "code",
   "execution_count": 26,
   "metadata": {
    "collapsed": false
   },
   "outputs": [],
   "source": [
    "scene = Scene(ceiling, O)"
   ]
  },
  {
   "cell_type": "markdown",
   "metadata": {},
   "source": [
    "We provide the VisualizationFrames, which we want to visualize as a list to scene."
   ]
  },
  {
   "cell_type": "code",
   "execution_count": 27,
   "metadata": {
    "collapsed": false
   },
   "outputs": [],
   "source": [
    "scene.visualization_frames = [bob_vframe, ceiling_vframe]"
   ]
  },
  {
   "cell_type": "markdown",
   "metadata": {},
   "source": [
    "The default camera of Scene has the z axis of the base frame pointing out of the screen, and the y axis pointing up. We want the x axis to point downwards, so we supply a new camera that will achieve this."
   ]
  },
  {
   "cell_type": "code",
   "execution_count": 28,
   "metadata": {
    "collapsed": false
   },
   "outputs": [],
   "source": [
    "camera_frame = ceiling.orientnew('Camera Frame','Axis', [pi / 2, ceiling.z])\n",
    "camera_point = O.locatenew('Camera Location', 100 * camera_frame.z)\n",
    "primary_camera = PerspectiveCamera(camera_frame, camera_point)\n",
    "scene.cameras = [primary_camera]"
   ]
  },
  {
   "cell_type": "markdown",
   "metadata": {},
   "source": [
    "The `generate_visualization_json_system` method generates the required data for the animations, in the form of JSON files. These JSON files are needed before calling the display methods."
   ]
  },
  {
   "cell_type": "code",
   "execution_count": 29,
   "metadata": {
    "collapsed": false
   },
   "outputs": [],
   "source": [
    "scene.generate_visualization_json_system(sys)"
   ]
  },
  {
   "cell_type": "markdown",
   "metadata": {},
   "source": [
    "Now, we call the display method."
   ]
  },
  {
   "cell_type": "code",
   "execution_count": 30,
   "metadata": {
    "collapsed": false
   },
   "outputs": [],
   "source": [
    "scene.display_ipython()"
   ]
  }
 ],
 "metadata": {
  "kernelspec": {
   "display_name": "Python 2",
   "language": "python",
   "name": "python2"
  },
  "language_info": {
   "codemirror_mode": {
    "name": "ipython",
    "version": 2
   },
   "file_extension": ".py",
   "mimetype": "text/x-python",
   "name": "python",
   "nbconvert_exporter": "python",
   "pygments_lexer": "ipython2",
   "version": "2.7.10"
  }
 },
 "nbformat": 4,
 "nbformat_minor": 0
}
